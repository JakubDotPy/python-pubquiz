{
 "cells": [
  {
   "cell_type": "markdown",
   "id": "c7485657",
   "metadata": {
    "slideshow": {
     "slide_type": "slide"
    }
   },
   "source": [
    "<h1 style=\"font-size:70px;\">Plzeňské Pyvo # 28</h1>"
   ]
  },
  {
   "cell_type": "markdown",
   "id": "daca6b6a",
   "metadata": {
    "slideshow": {
     "slide_type": "fragment"
    }
   },
   "source": [
    "<div style=\"font-size:90px;width:400px;display:block;float:left;\">\n",
    "    <p style=\"color:#306998;float:left;text-align:left;\">Py</p>\n",
    "    <p style=\"color:#FFD43B;float:left;text-align:right;\">Kviz</p>\n",
    "</div>"
   ]
  },
  {
   "cell_type": "code",
   "execution_count": 1,
   "id": "c5f59145",
   "metadata": {
    "slideshow": {
     "slide_type": "fragment"
    }
   },
   "outputs": [
    {
     "name": "stdout",
     "output_type": "stream",
     "text": [
      "Vítejte!\n"
     ]
    }
   ],
   "source": [
    "print('Vítejte!')"
   ]
  },
  {
   "cell_type": "markdown",
   "id": "48f363b1",
   "metadata": {
    "slideshow": {
     "slide_type": "slide"
    }
   },
   "source": [
    "## Úvodní slovo\n",
    "- zápisné / cena pro vítěze\n",
    "- průběh kvízu\n",
    "- hodnocení / bodování"
   ]
  },
  {
   "cell_type": "markdown",
   "id": "22aa74af",
   "metadata": {
    "slideshow": {
     "slide_type": "slide"
    }
   },
   "source": [
    "## Bonusové úkoly\n",
    "Řešte v průběhu kvízu na zadní stranu.  \n",
    "Po skončení kvízu bude pár minut na dokončení."
   ]
  },
  {
   "cell_type": "markdown",
   "id": "6fadea68",
   "metadata": {
    "slideshow": {
     "slide_type": "subslide"
    }
   },
   "source": [
    "### Napište co nejvíce bodů (veršů) ze \"Zen of python\".\n",
    "1 bod za každý (celkem 19)"
   ]
  },
  {
   "cell_type": "markdown",
   "id": "aad69dac",
   "metadata": {
    "slideshow": {
     "slide_type": "subslide"
    }
   },
   "source": [
    "### Naprogramujte \"na papír\" - FizzBuzz pro čísla [1, n]\n",
    "\n",
    "10 bodů  \n",
    "\n",
    "Vypíše:\n",
    "- 'Fizz', pokud je číslo dělitelné 3\n",
    "- 'Buzz', pokud je dělitelné 5\n",
    "- 'FizzBuzz', pokud je dělitelné 3 i 5\n",
    "- číslo, pokud neplatí nic výše\n",
    "\n",
    "```\n",
    "1\n",
    "2\n",
    "Fizz\n",
    "4\n",
    "Buzz\n",
    "Fizz\n",
    "7\n",
    "8\n",
    "Fizz\n",
    "Buzz\n",
    "11\n",
    "Fizz\n",
    "13\n",
    "14\n",
    "FizzBuzz\n",
    "16\n",
    "17\n",
    "Fizz\n",
    "19\n",
    "Buzz\n",
    "```\n",
    "\n",
    "<p style=\"color:red;font-size:40px;\">Bez použití 'if'!</p>\n"
   ]
  },
  {
   "cell_type": "markdown",
   "id": "4701df00",
   "metadata": {
    "slideshow": {
     "slide_type": "slide"
    }
   },
   "source": [
    "## 1. Z historie Pythonu"
   ]
  },
  {
   "cell_type": "markdown",
   "id": "f8bf2fbb",
   "metadata": {
    "slideshow": {
     "slide_type": "subslide"
    }
   },
   "source": [
    "### 1.1 Popiš, odkud pochází název Python\n",
    "1 bod"
   ]
  },
  {
   "cell_type": "markdown",
   "id": "3b1b688a",
   "metadata": {
    "slideshow": {
     "slide_type": "subslide"
    }
   },
   "source": [
    "### 1.2 Uveď celé jméno otce Pythonu\n",
    "3 body"
   ]
  },
  {
   "cell_type": "markdown",
   "id": "32341961",
   "metadata": {
    "slideshow": {
     "slide_type": "subslide"
    }
   },
   "source": [
    "### 1.3 Jakou samozvanou funkci (titul) měl v rámci Pythonu jeho tvůrce? \n",
    "2 body\n",
    "- Z funkce odstoupil 12. července 2018. Bonusová otázka (2b) - proč?"
   ]
  },
  {
   "cell_type": "markdown",
   "id": "6deef261",
   "metadata": {
    "slideshow": {
     "slide_type": "subslide"
    }
   },
   "source": [
    "### 1.4 Kdy začal vývoj Pythonu?\n",
    "Rok a měsíc  \n",
    "2 body"
   ]
  },
  {
   "cell_type": "markdown",
   "id": "bfdc4643",
   "metadata": {
    "slideshow": {
     "slide_type": "subslide"
    }
   },
   "source": [
    "### 1.5 Významné releasy.\n",
    "Rok a měsíc, po 2 bodech  \n",
    "- první release\n",
    "- verze 1.0\n",
    "- verze 2.0\n",
    "- verze 3.0"
   ]
  },
  {
   "cell_type": "markdown",
   "id": "676e52dc",
   "metadata": {
    "slideshow": {
     "slide_type": "slide"
    }
   },
   "source": [
    "## 1. Z historie Pythonu - Řešení\n",
    "https://en.wikipedia.org/wiki/History_of_Python"
   ]
  },
  {
   "cell_type": "markdown",
   "id": "7ca4f65f",
   "metadata": {
    "slideshow": {
     "slide_type": "subslide"
    }
   },
   "source": [
    "### 1.1 Popiš, odkud pochází název Python\n",
    "1 bod"
   ]
  },
  {
   "cell_type": "markdown",
   "id": "411d4949",
   "metadata": {
    "slideshow": {
     "slide_type": "fragment"
    }
   },
   "source": [
    "Je pojmenován podle britského komediálního seriálu \"Monty Python’s Flying Circus\".\n",
    "\n",
    "Z [dokumentace](https://docs.python.org/3/faq/general.html#why-is-it-called-python):\n",
    "> When he began implementing Python, Guido van Rossum was also reading the published scripts from “Monty Python’s Flying Circus”, a BBC comedy series from the 1970s.  \n",
    "> Van Rossum thought he needed a name that was short, unique, and slightly mysterious, so he decided to call the language Python."
   ]
  },
  {
   "cell_type": "markdown",
   "id": "41424388",
   "metadata": {
    "slideshow": {
     "slide_type": "subslide"
    }
   },
   "source": [
    "### 1.2 Uveď celé jméno otce Pythonu\n",
    "3 body"
   ]
  },
  {
   "cell_type": "markdown",
   "id": "e78eb066",
   "metadata": {
    "slideshow": {
     "slide_type": "fragment"
    }
   },
   "source": [
    "Guido van Rossum"
   ]
  },
  {
   "cell_type": "markdown",
   "id": "c5025933",
   "metadata": {
    "slideshow": {
     "slide_type": "subslide"
    }
   },
   "source": [
    "### 1.3 Jakou samozvanou funkci (titul) má v rámci Pythonu jeho tvůrce?  \n",
    "2 body"
   ]
  },
  {
   "cell_type": "markdown",
   "id": "3222d5ba",
   "metadata": {
    "slideshow": {
     "slide_type": "fragment"
    }
   },
   "source": [
    "BDFL - [Benevolent dictator for life](https://en.wikipedia.org/wiki/Benevolent_dictator_for_life)"
   ]
  },
  {
   "cell_type": "markdown",
   "id": "d521cd64",
   "metadata": {
    "slideshow": {
     "slide_type": "fragment"
    }
   },
   "source": [
    "[Odstoupil](https://mail.python.org/pipermail/python-committers/2018-July/005664.html) po neshodách ohledně [PEP 572](https://peps.python.org/pep-0572/) - Assignment Expressions `:=`"
   ]
  },
  {
   "cell_type": "markdown",
   "id": "f1373615",
   "metadata": {
    "slideshow": {
     "slide_type": "subslide"
    }
   },
   "source": [
    "### 1.4 Kdy začal vývoj Pythonu?\n",
    "Rok a měsíc\n",
    "2 body"
   ]
  },
  {
   "cell_type": "markdown",
   "id": "55f8ef44",
   "metadata": {
    "slideshow": {
     "slide_type": "fragment"
    }
   },
   "source": [
    "Prosinec 1989"
   ]
  },
  {
   "cell_type": "markdown",
   "id": "9ccd269e",
   "metadata": {
    "slideshow": {
     "slide_type": "subslide"
    }
   },
   "source": [
    "### 1.5 Významné releasy.\n",
    "Rok a měsíc, po 2 bodech  "
   ]
  },
  {
   "cell_type": "markdown",
   "id": "7626635e",
   "metadata": {
    "slideshow": {
     "slide_type": "fragment"
    }
   },
   "source": [
    "- první release - Únor 1991\n",
    "- verze 1.0 - Leden 1994\n",
    "- verze 2.0 - Říjen 2000\n",
    "- verze 3.0 - Prosinec 2008"
   ]
  },
  {
   "cell_type": "markdown",
   "id": "676ddfe6",
   "metadata": {
    "slideshow": {
     "slide_type": "slide"
    }
   },
   "source": [
    "## 2. Tipovačka"
   ]
  },
  {
   "cell_type": "markdown",
   "id": "48f046e8",
   "metadata": {
    "slideshow": {
     "slide_type": "subslide"
    }
   },
   "source": [
    "### 2.1 Kdy bylo vůbec první Pyvo?\n",
    "První tři nejbližší 1 bod.  \n",
    "Pokud bude někdo v toleranci +- půl roku, 3 body.\n",
    "- české (které)\n",
    "- plzeňské"
   ]
  },
  {
   "cell_type": "markdown",
   "id": "13892e2a",
   "metadata": {
    "slideshow": {
     "slide_type": "subslide"
    }
   },
   "source": [
    "### 2.2 Kolik je v tuto chvíli na Stack Overflow otázek s tagem \"Python\"?\n",
    "První tři nejbližší 1 bod.  \n",
    "Pokud bude někdo v toleranci +-200_000, 3 body."
   ]
  },
  {
   "cell_type": "markdown",
   "id": "c45745cb",
   "metadata": {
    "slideshow": {
     "slide_type": "subslide"
    }
   },
   "source": [
    "### 2.3 Kolik \"keywords\" má python?\n",
    "1 bod"
   ]
  },
  {
   "cell_type": "markdown",
   "id": "b5671573",
   "metadata": {
    "slideshow": {
     "slide_type": "subslide"
    }
   },
   "source": [
    "### 2.4 Jaká je maximální hloubka rekurzivního volání?\n",
    "1 bod"
   ]
  },
  {
   "cell_type": "markdown",
   "id": "3b3513d0",
   "metadata": {
    "slideshow": {
     "slide_type": "subslide"
    }
   },
   "source": [
    "### 2.5 Vyjmenuj všechny \"příchutě\" pythonu.\n",
    "po 1 bodu  \n",
    "nápověda: např. `CPython`"
   ]
  },
  {
   "cell_type": "markdown",
   "id": "7ef2b30f",
   "metadata": {
    "slideshow": {
     "slide_type": "slide"
    }
   },
   "source": [
    "## 2. Tipovačka - Řešení"
   ]
  },
  {
   "cell_type": "markdown",
   "id": "8083cc2a",
   "metadata": {
    "slideshow": {
     "slide_type": "subslide"
    }
   },
   "source": [
    "### 2.1 Kdy bylo vůbec první Pyvo?\n",
    "První tři nejbližší 1 bod.  \n",
    "Pokud bude někdo v toleranci +- půl roku, 3 body.\n",
    "- české (které)\n",
    "- plzeňské"
   ]
  },
  {
   "cell_type": "markdown",
   "id": "088f45d1",
   "metadata": {
    "slideshow": {
     "slide_type": "fragment"
    }
   },
   "source": [
    "- české - 17.1.2011, pražské\n",
    "- plzeňské - 10.1.2018"
   ]
  },
  {
   "cell_type": "markdown",
   "id": "49953c9c",
   "metadata": {
    "slideshow": {
     "slide_type": "subslide"
    }
   },
   "source": [
    "### 2.2 Kolik je v tuto chvíli na Stack Overflow otázek s tagem \"Python\"?\n",
    "První tři nejbližší 1 bod.  \n",
    "Pokud bude někdo v toleranci +-200_000, 3 body."
   ]
  },
  {
   "cell_type": "markdown",
   "id": "4219a6b8",
   "metadata": {
    "slideshow": {
     "slide_type": "fragment"
    }
   },
   "source": [
    "2,016,389  \n",
    "Aktuální odpověď: https://stackoverflow.com/questions/tagged/python"
   ]
  },
  {
   "cell_type": "markdown",
   "id": "52539f90",
   "metadata": {
    "slideshow": {
     "slide_type": "subslide"
    }
   },
   "source": [
    "### 2.3 Kolik \"keywords\" má python?\n",
    "1 bod"
   ]
  },
  {
   "cell_type": "code",
   "execution_count": 2,
   "id": "d4f02aca",
   "metadata": {
    "scrolled": true,
    "slideshow": {
     "slide_type": "fragment"
    }
   },
   "outputs": [
    {
     "name": "stdout",
     "output_type": "stream",
     "text": [
      "\n",
      "Welcome to Python 3.10's help utility!\n",
      "\n",
      "If this is your first time using Python, you should definitely check out\n",
      "the tutorial on the internet at https://docs.python.org/3.10/tutorial/.\n",
      "\n",
      "Enter the name of any module, keyword, or topic to get help on writing\n",
      "Python programs and using Python modules.  To quit this help utility and\n",
      "return to the interpreter, just type \"quit\".\n",
      "\n",
      "To get a list of available modules, keywords, symbols, or topics, type\n",
      "\"modules\", \"keywords\", \"symbols\", or \"topics\".  Each module also comes\n",
      "with a one-line summary of what it does; to list the modules whose name\n",
      "or summary contain a given string such as \"spam\", type \"modules spam\".\n",
      "\n",
      "help> exit\n",
      "No Python documentation found for 'exit'.\n",
      "Use help() to get the interactive help utility.\n",
      "Use help(str) for help on the str class.\n",
      "\n",
      "help> keywords\n",
      "\n",
      "Here is a list of the Python keywords.  Enter any keyword to get more help.\n",
      "\n",
      "False               class               from                or\n",
      "None                continue            global              pass\n",
      "True                def                 if                  raise\n",
      "and                 del                 import              return\n",
      "as                  elif                in                  try\n",
      "assert              else                is                  while\n",
      "async               except              lambda              with\n",
      "await               finally             nonlocal            yield\n",
      "break               for                 not                 \n",
      "\n",
      "help> q\n",
      "\n",
      "You are now leaving help and returning to the Python interpreter.\n",
      "If you want to ask for help on a particular object directly from the\n",
      "interpreter, you can type \"help(object)\".  Executing \"help('string')\"\n",
      "has the same effect as typing a particular string at the help> prompt.\n"
     ]
    }
   ],
   "source": [
    "help()  # keywords 4 * 9 - 1"
   ]
  },
  {
   "cell_type": "markdown",
   "id": "316a52cb",
   "metadata": {
    "slideshow": {
     "slide_type": "subslide"
    }
   },
   "source": [
    "### 2.4 Jaká je maximální hloubka rekurzivního volání?\n",
    "1 bod"
   ]
  },
  {
   "cell_type": "markdown",
   "id": "b541d803",
   "metadata": {
    "slideshow": {
     "slide_type": "fragment"
    }
   },
   "source": [
    "Standartně `1000`, dá se [nastavit](https://docs.python.org/3.10/library/sys.html?highlight=recursionlimit#sys.getrecursionlimit) větší.  \n",
    "Záleží také na interpreteru. JupyterNotebook má např. `3000`."
   ]
  },
  {
   "cell_type": "code",
   "execution_count": 15,
   "id": "37b5f7a6",
   "metadata": {
    "slideshow": {
     "slide_type": "fragment"
    }
   },
   "outputs": [
    {
     "data": {
      "text/plain": [
       "3000"
      ]
     },
     "execution_count": 15,
     "metadata": {},
     "output_type": "execute_result"
    }
   ],
   "source": [
    "import sys\n",
    "sys.getrecursionlimit()"
   ]
  },
  {
   "cell_type": "markdown",
   "id": "dcc7dc1a",
   "metadata": {
    "slideshow": {
     "slide_type": "subslide"
    }
   },
   "source": [
    "### 2.5 Vyjmenuj všechny \"příchutě\" pythonu.\n",
    "po 1 bodu  \n",
    "nápověda: např. `CPython`"
   ]
  },
  {
   "cell_type": "markdown",
   "id": "83cb195c",
   "metadata": {
    "slideshow": {
     "slide_type": "fragment"
    }
   },
   "source": [
    "[zde](https://www.infoworld.com/article/3267976/12-pythons-for-every-programming-need.html) a [zde](https://www.gkindex.com/python-tutorial/python-flavours.jsp)\n",
    "- CPython\n",
    "- Anaconda Python\n",
    "- ActivePython\n",
    "- PyPy\n",
    "- Jython\n",
    "- IronPython\n",
    "- WinPython\n",
    "- Python Portable\n",
    "- MicroPython\n",
    "- RubyPython\n",
    "- Pythonxy\n",
    "- Pycopy\n",
    "- RustPython\n",
    "\n",
    "a další..."
   ]
  },
  {
   "cell_type": "markdown",
   "id": "be6e494a",
   "metadata": {
    "slideshow": {
     "slide_type": "slide"
    }
   },
   "source": [
    "## 3. WTF Python?!\n",
    "Napište výsledek operace."
   ]
  },
  {
   "cell_type": "markdown",
   "id": "998fbb99",
   "metadata": {
    "slideshow": {
     "slide_type": "subslide"
    }
   },
   "source": [
    "### 3.1 Chained comparisons\n",
    "po 1 bodu\n",
    "```python\n",
    "True is False == False\n",
    "False is False is False\n",
    "False == False in [False]\n",
    "```"
   ]
  },
  {
   "cell_type": "markdown",
   "id": "c095f549",
   "metadata": {
    "slideshow": {
     "slide_type": "subslide"
    }
   },
   "source": [
    "### 3.2 ID please\n",
    "1 bod\n",
    "```python\n",
    "class Wtf:\n",
    "    pass\n",
    "\n",
    "id(Wtf()) == id(Wtf())\n",
    "```"
   ]
  },
  {
   "cell_type": "markdown",
   "id": "8a58e4bf",
   "metadata": {
    "slideshow": {
     "slide_type": "subslide"
    }
   },
   "source": [
    "### 3.3 Round and Round and Round...\n",
    "1 bod\n",
    "```python\n",
    "round(1.3), round(1.5), round(2.5), round(3.7), round(4.6), round(4.5)\n",
    "```"
   ]
  },
  {
   "cell_type": "markdown",
   "id": "eb838630",
   "metadata": {
    "slideshow": {
     "slide_type": "subslide"
    }
   },
   "source": [
    "### 3.4 Ternary fun\n",
    "1 bod\n",
    "```python\n",
    "x, y = (0, 1) if True else None, None\n",
    "```"
   ]
  },
  {
   "cell_type": "markdown",
   "id": "b9cd9e8a",
   "metadata": {
    "slideshow": {
     "slide_type": "subslide"
    }
   },
   "source": [
    "### 3.5 Wild imports *\n",
    "1 bod\n",
    "```python\n",
    "# File: module.py\n",
    "def some_weird_name_func_():\n",
    "    print(\"works!\")\n",
    "\n",
    "def _another_weird_name_func():\n",
    "    print(\"works!\")\n",
    "    \n",
    "# co vypise?:\n",
    "from module import *\n",
    "some_weird_name_func_()\n",
    "_another_weird_name_func()\n",
    "```"
   ]
  },
  {
   "cell_type": "markdown",
   "id": "2e391fee",
   "metadata": {
    "slideshow": {
     "slide_type": "subslide"
    }
   },
   "source": [
    "### 3.6 Sorting fun\n",
    "3 body\n",
    "```python\n",
    "x = 7, 8, 9\n",
    "sorted(x) == x  # 1 bod\n",
    "sorted(x) == sorted(x)  # 1 bod\n",
    "\n",
    "y = reversed(x)\n",
    "sorted(y) == sorted(y)  # 1 bod\n",
    "```"
   ]
  },
  {
   "cell_type": "markdown",
   "id": "b619843a",
   "metadata": {
    "slideshow": {
     "slide_type": "subslide"
    }
   },
   "source": [
    "### 3.7 Hash of infinity\n",
    "1 bod  \n",
    "Jaký je hash nekonečna?"
   ]
  },
  {
   "cell_type": "markdown",
   "id": "5f6f9732",
   "metadata": {
    "slideshow": {
     "slide_type": "slide"
    }
   },
   "source": [
    "## 3. WTF Python?! - Řešení"
   ]
  },
  {
   "cell_type": "markdown",
   "id": "5b37b79e",
   "metadata": {
    "slideshow": {
     "slide_type": "subslide"
    }
   },
   "source": [
    "### 3.1 Chained comparisons\n",
    "po 1 bodu\n",
    "```python\n",
    "True is False == False\n",
    "False is False is False\n",
    "False == False in [False]\n",
    "```"
   ]
  },
  {
   "cell_type": "code",
   "execution_count": 4,
   "id": "e7f3f7ab",
   "metadata": {
    "slideshow": {
     "slide_type": "fragment"
    }
   },
   "outputs": [
    {
     "data": {
      "text/plain": [
       "False"
      ]
     },
     "execution_count": 4,
     "metadata": {},
     "output_type": "execute_result"
    }
   ],
   "source": [
    "True is False == False"
   ]
  },
  {
   "cell_type": "code",
   "execution_count": 5,
   "id": "5cac08a9",
   "metadata": {
    "slideshow": {
     "slide_type": "fragment"
    }
   },
   "outputs": [
    {
     "data": {
      "text/plain": [
       "True"
      ]
     },
     "execution_count": 5,
     "metadata": {},
     "output_type": "execute_result"
    }
   ],
   "source": [
    "False is False is False"
   ]
  },
  {
   "cell_type": "code",
   "execution_count": 6,
   "id": "48562f73",
   "metadata": {
    "slideshow": {
     "slide_type": "fragment"
    }
   },
   "outputs": [
    {
     "data": {
      "text/plain": [
       "True"
      ]
     },
     "execution_count": 6,
     "metadata": {},
     "output_type": "execute_result"
    }
   ],
   "source": [
    "False == False in [False]"
   ]
  },
  {
   "cell_type": "markdown",
   "id": "fed28e49",
   "metadata": {
    "slideshow": {
     "slide_type": "fragment"
    }
   },
   "source": [
    "U \"chained\" operátorů se provede rozklad na dvojice spojené pomocí `and`.<br>\n",
    "`False == False in [False]` ->`(False == False) and (False in [False])`"
   ]
  },
  {
   "cell_type": "markdown",
   "id": "d319e534",
   "metadata": {
    "slideshow": {
     "slide_type": "subslide"
    }
   },
   "source": [
    "### 3.2 ID please\n",
    "1 bod\n",
    "```python\n",
    "class Wtf:\n",
    "    pass\n",
    "\n",
    "id(Wtf()) == id(Wtf())\n",
    "```"
   ]
  },
  {
   "cell_type": "code",
   "execution_count": 7,
   "id": "76a70779",
   "metadata": {
    "slideshow": {
     "slide_type": "fragment"
    }
   },
   "outputs": [
    {
     "data": {
      "text/plain": [
       "True"
      ]
     },
     "execution_count": 7,
     "metadata": {},
     "output_type": "execute_result"
    }
   ],
   "source": [
    "class Wtf:\n",
    "    pass\n",
    "\n",
    "id(Wtf()) == id(Wtf())"
   ]
  },
  {
   "cell_type": "code",
   "execution_count": 16,
   "id": "a7d2ce4f",
   "metadata": {
    "slideshow": {
     "slide_type": "subslide"
    }
   },
   "outputs": [],
   "source": [
    "\"\"\"\n",
    "When id was called, Python created a WTF class object and passed it to the id function.\n",
    "The id function takes its id (its memory location), and throws away the object. The object is destroyed.\n",
    "\"\"\"\n",
    "import random, string\n",
    "class WTF(object):\n",
    "  def __init__(self):\n",
    "    self.name = random.choice(string.ascii_lowercase)  # jmeno je nahodne pismeno\n",
    "    print(f'Init {self.name}')\n",
    "  def __del__(self):\n",
    "    print(f'Delete {self.name}')"
   ]
  },
  {
   "cell_type": "code",
   "execution_count": 17,
   "id": "4d471cc8",
   "metadata": {
    "slideshow": {
     "slide_type": "fragment"
    }
   },
   "outputs": [
    {
     "name": "stdout",
     "output_type": "stream",
     "text": [
      "Init v\n",
      "Init h\n",
      "Delete v\n",
      "Delete h\n"
     ]
    },
    {
     "data": {
      "text/plain": [
       "False"
      ]
     },
     "execution_count": 17,
     "metadata": {},
     "output_type": "execute_result"
    }
   ],
   "source": [
    "WTF() is WTF()"
   ]
  },
  {
   "cell_type": "code",
   "execution_count": 18,
   "id": "b9a8fb94",
   "metadata": {
    "slideshow": {
     "slide_type": "fragment"
    }
   },
   "outputs": [
    {
     "name": "stdout",
     "output_type": "stream",
     "text": [
      "Init v\n",
      "Delete v\n",
      "Init v\n",
      "Delete v\n"
     ]
    },
    {
     "data": {
      "text/plain": [
       "True"
      ]
     },
     "execution_count": 18,
     "metadata": {},
     "output_type": "execute_result"
    }
   ],
   "source": [
    "id(WTF()) == id(WTF())"
   ]
  },
  {
   "cell_type": "markdown",
   "id": "890a639d",
   "metadata": {
    "slideshow": {
     "slide_type": "subslide"
    }
   },
   "source": [
    "### 3.3 Round and Round and Round...\n",
    "1 bod\n",
    "```python\n",
    "round(1.3), round(1.5), round(2.5), round(3.7), round(4.6), round(4.5)\n",
    "```"
   ]
  },
  {
   "cell_type": "code",
   "execution_count": 11,
   "id": "7d68e87f",
   "metadata": {
    "slideshow": {
     "slide_type": "fragment"
    }
   },
   "outputs": [
    {
     "data": {
      "text/plain": [
       "(1, 2, 2, 4, 5, 4)"
      ]
     },
     "execution_count": 11,
     "metadata": {},
     "output_type": "execute_result"
    }
   ],
   "source": [
    "round(1.3), round(1.5), round(2.5), round(3.7), round(4.6), round(4.5)"
   ]
  },
  {
   "cell_type": "markdown",
   "id": "20f63ec4",
   "metadata": {
    "slideshow": {
     "slide_type": "fragment"
    }
   },
   "source": [
    "Základní zaokrouhlování v Pythonu zaokrouhluje `.5` k nejbližšímu sudému číslu.  \n",
    "Známé jako: `Round half to even`, `Banker's rounding`"
   ]
  },
  {
   "cell_type": "markdown",
   "id": "6ec147b0",
   "metadata": {
    "slideshow": {
     "slide_type": "subslide"
    }
   },
   "source": [
    "### 3.4 Ternary fun\n",
    "1 bod\n",
    "```python\n",
    "x, y = (0, 1) if True else None, None\n",
    "```"
   ]
  },
  {
   "cell_type": "code",
   "execution_count": 12,
   "id": "8fea7ce2",
   "metadata": {
    "slideshow": {
     "slide_type": "fragment"
    }
   },
   "outputs": [
    {
     "name": "stdout",
     "output_type": "stream",
     "text": [
      "x = (0, 1)\n",
      "y = None\n"
     ]
    }
   ],
   "source": [
    "x, y = (0, 1) if True else None, None\n",
    "print(f'{x = }')\n",
    "print(f'{y = }')"
   ]
  },
  {
   "cell_type": "markdown",
   "id": "f7488f9b",
   "metadata": {
    "slideshow": {
     "slide_type": "subslide"
    }
   },
   "source": [
    "### 3.5 Wild imports *\n",
    "1 bod\n",
    "```python\n",
    "some_weird_name_func_()\n",
    "_another_weird_name_func()\n",
    "```"
   ]
  },
  {
   "cell_type": "code",
   "execution_count": 19,
   "id": "528e5874",
   "metadata": {
    "slideshow": {
     "slide_type": "fragment"
    }
   },
   "outputs": [
    {
     "name": "stdout",
     "output_type": "stream",
     "text": [
      "works!\n",
      "NameError: name '_another_weird_name_func' is not defined\n"
     ]
    }
   ],
   "source": [
    "from module import *\n",
    "some_weird_name_func_()\n",
    "try:\n",
    "    _another_weird_name_func()\n",
    "except NameError as e:\n",
    "    print(f'NameError: {e}')"
   ]
  },
  {
   "cell_type": "markdown",
   "id": "34dc420f",
   "metadata": {
    "slideshow": {
     "slide_type": "fragment"
    }
   },
   "source": [
    "Názvy s podtržítky na začátku nejsou při wildcard importech naimportovány."
   ]
  },
  {
   "cell_type": "markdown",
   "id": "65e732ee",
   "metadata": {
    "slideshow": {
     "slide_type": "subslide"
    }
   },
   "source": [
    "### 3.6 Sorting fun\n",
    "3 body\n",
    "```python\n",
    "x = 7, 8, 9\n",
    "sorted(x) == x  # 1 bod\n",
    "sorted(x) == sorted(x)  # 1 bod\n",
    "\n",
    "y = reversed(x)\n",
    "sorted(y) == sorted(y)  # 1 bod\n",
    "```"
   ]
  },
  {
   "cell_type": "code",
   "execution_count": 21,
   "id": "ca9b6097",
   "metadata": {
    "slideshow": {
     "slide_type": "subslide"
    }
   },
   "outputs": [
    {
     "data": {
      "text/plain": [
       "False"
      ]
     },
     "execution_count": 21,
     "metadata": {},
     "output_type": "execute_result"
    }
   ],
   "source": [
    "x = 7, 8, 9\n",
    "sorted(x) == x"
   ]
  },
  {
   "cell_type": "code",
   "execution_count": 22,
   "id": "1d24e782",
   "metadata": {
    "slideshow": {
     "slide_type": "fragment"
    }
   },
   "outputs": [
    {
     "data": {
      "text/plain": [
       "True"
      ]
     },
     "execution_count": 22,
     "metadata": {},
     "output_type": "execute_result"
    }
   ],
   "source": [
    "sorted(x) == sorted(x)"
   ]
  },
  {
   "cell_type": "code",
   "execution_count": 23,
   "id": "d1afb9c0",
   "metadata": {
    "slideshow": {
     "slide_type": "fragment"
    }
   },
   "outputs": [
    {
     "data": {
      "text/plain": [
       "False"
      ]
     },
     "execution_count": 23,
     "metadata": {},
     "output_type": "execute_result"
    }
   ],
   "source": [
    "y = reversed(x)\n",
    "sorted(y) == sorted(y)"
   ]
  },
  {
   "cell_type": "markdown",
   "id": "3a793b43",
   "metadata": {
    "slideshow": {
     "slide_type": "fragment"
    }
   },
   "source": [
    "- `sorted()` vždy vrací list. V prvním výrazu se tak porovnává list s tuple, což vždy vrací `False`\n",
    "- Druhý viz první.\n",
    "- `reversed()` vrací iterátor. Ten je po prvním `sorted` \"vyčerpaný\" a druhý sorted tak vrací prázdný list."
   ]
  },
  {
   "cell_type": "markdown",
   "id": "3723934c",
   "metadata": {
    "slideshow": {
     "slide_type": "subslide"
    }
   },
   "source": [
    "### 3.7 Hash of infinity\n",
    "1 bod  \n",
    "Jaký je hash nekonečna?"
   ]
  },
  {
   "cell_type": "code",
   "execution_count": 25,
   "id": "dbe8bd34",
   "metadata": {
    "slideshow": {
     "slide_type": "fragment"
    }
   },
   "outputs": [
    {
     "data": {
      "text/plain": [
       "314159"
      ]
     },
     "execution_count": 25,
     "metadata": {},
     "output_type": "execute_result"
    }
   ],
   "source": [
    "hash(float('infinity'))"
   ]
  }
 ],
 "metadata": {
  "celltoolbar": "Slideshow",
  "kernelspec": {
   "display_name": "Python 3 (ipykernel)",
   "language": "python",
   "name": "python3"
  },
  "language_info": {
   "codemirror_mode": {
    "name": "ipython",
    "version": 3
   },
   "file_extension": ".py",
   "mimetype": "text/x-python",
   "name": "python",
   "nbconvert_exporter": "python",
   "pygments_lexer": "ipython3",
   "version": "3.10.5"
  }
 },
 "nbformat": 4,
 "nbformat_minor": 5
}
