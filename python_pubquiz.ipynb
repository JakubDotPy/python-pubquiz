{
 "cells": [
  {
   "cell_type": "markdown",
   "id": "c7485657",
   "metadata": {
    "slideshow": {
     "slide_type": "slide"
    }
   },
   "source": [
    "<h1 style=\"font-size:70px;\">Plzeňské Pyvo # 28</h1>"
   ]
  },
  {
   "cell_type": "markdown",
   "id": "daca6b6a",
   "metadata": {
    "slideshow": {
     "slide_type": "fragment"
    }
   },
   "source": [
    "<div style=\"font-size:90px;width:400px;display:block;float:left;\">\n",
    "    <p style=\"color:#306998;float:left;text-align:left;\">Py</p>\n",
    "    <p style=\"color:#FFD43B;float:left;text-align:right;\">Kviz</p>\n",
    "</div>"
   ]
  },
  {
   "cell_type": "code",
   "execution_count": 1,
   "id": "c5f59145",
   "metadata": {
    "slideshow": {
     "slide_type": "fragment"
    }
   },
   "outputs": [
    {
     "name": "stdout",
     "output_type": "stream",
     "text": [
      "Vítejte!\n"
     ]
    }
   ],
   "source": [
    "print('Vítejte!')"
   ]
  },
  {
   "cell_type": "markdown",
   "id": "48f363b1",
   "metadata": {
    "slideshow": {
     "slide_type": "slide"
    }
   },
   "source": [
    "## Úvodní slovo\n",
    "- zápisné / cena pro vítěze\n",
    "- průběh kvízu\n",
    "- hodnocení / bodování"
   ]
  },
  {
   "cell_type": "markdown",
   "id": "22aa74af",
   "metadata": {
    "slideshow": {
     "slide_type": "slide"
    }
   },
   "source": [
    "## Bonusové úkoly\n",
    "Řešte v průběhu kvízu na zadní stranu.  \n",
    "Po skončení kvízu bude pár minut na dokončení."
   ]
  },
  {
   "cell_type": "markdown",
   "id": "6fadea68",
   "metadata": {
    "slideshow": {
     "slide_type": "subslide"
    }
   },
   "source": [
    "### Napište co nejvíce bodů (veršů) ze \"Zen of python\".\n",
    "1 bod za každý"
   ]
  },
  {
   "cell_type": "markdown",
   "id": "aad69dac",
   "metadata": {
    "slideshow": {
     "slide_type": "subslide"
    }
   },
   "source": [
    "### Naprogramujte \"na papír\" - FizzBuzz pro čísla [1, n]\n",
    "\n",
    "10 bodů  \n",
    "\n",
    "Vypíše:\n",
    "- 'Fizz', pokud je číslo dělitelné 3\n",
    "- 'Buzz', pokud je dělitelné 5\n",
    "- 'FizzBuzz', pokud je dělitelné 3 i 5\n",
    "- číslo, pokud neplatí nic výše\n",
    "\n",
    "```\n",
    "1\n",
    "2\n",
    "Fizz\n",
    "4\n",
    "Buzz\n",
    "Fizz\n",
    "7\n",
    "8\n",
    "Fizz\n",
    "Buzz\n",
    "11\n",
    "Fizz\n",
    "13\n",
    "14\n",
    "FizzBuzz\n",
    "16\n",
    "17\n",
    "Fizz\n",
    "19\n",
    "Buzz\n",
    "```\n",
    "\n",
    "<p style=\"color:red;font-size:40px;\">Bez použití 'if'!</p>\n"
   ]
  },
  {
   "cell_type": "markdown",
   "id": "4701df00",
   "metadata": {
    "slideshow": {
     "slide_type": "slide"
    }
   },
   "source": [
    "## 1. Z historie Pythonu"
   ]
  },
  {
   "cell_type": "markdown",
   "id": "f8bf2fbb",
   "metadata": {
    "slideshow": {
     "slide_type": "subslide"
    }
   },
   "source": [
    "### 1.1 Popiš, odkud pochází název Python\n",
    "1 bod"
   ]
  },
  {
   "cell_type": "markdown",
   "id": "3b1b688a",
   "metadata": {
    "slideshow": {
     "slide_type": "subslide"
    }
   },
   "source": [
    "### 1.2 Uveď celé jméno otce Pythonu\n",
    "3 body"
   ]
  },
  {
   "cell_type": "markdown",
   "id": "32341961",
   "metadata": {
    "slideshow": {
     "slide_type": "subslide"
    }
   },
   "source": [
    "### 1.3 Jakou samozvanou funkci (titul) měl v rámci Pythonu jeho tvůrce? \n",
    "2 body\n",
    "- Z funkce odstoupil 12. července 2018. Bonusová otázka (2b) - proč?"
   ]
  },
  {
   "cell_type": "markdown",
   "id": "6deef261",
   "metadata": {
    "slideshow": {
     "slide_type": "subslide"
    }
   },
   "source": [
    "### 1.4 Kdy začal vývoj Pythonu?\n",
    "Rok a měsíc  \n",
    "2 body"
   ]
  },
  {
   "cell_type": "markdown",
   "id": "bfdc4643",
   "metadata": {
    "slideshow": {
     "slide_type": "subslide"
    }
   },
   "source": [
    "### 1.5 Významné releasy.\n",
    "Rok a měsíc, po 2 bodech  \n",
    "- první release\n",
    "- verze 1.0\n",
    "- verze 2.0\n",
    "- verze 3.0"
   ]
  },
  {
   "cell_type": "markdown",
   "id": "676e52dc",
   "metadata": {
    "slideshow": {
     "slide_type": "slide"
    }
   },
   "source": [
    "## 1. Z historie Pythonu - Řešení\n",
    "https://en.wikipedia.org/wiki/History_of_Python"
   ]
  },
  {
   "cell_type": "markdown",
   "id": "7ca4f65f",
   "metadata": {
    "slideshow": {
     "slide_type": "subslide"
    }
   },
   "source": [
    "### 1.1 Popiš, odkud pochází název Python\n",
    "1 bod"
   ]
  },
  {
   "cell_type": "markdown",
   "id": "411d4949",
   "metadata": {
    "slideshow": {
     "slide_type": "fragment"
    }
   },
   "source": [
    "Je pojmenován podle britského komediálního seriálu \"Monty Python’s Flying Circus\"\n",
    "\n",
    "Z [dokumentace](https://docs.python.org/3/faq/general.html#why-is-it-called-python):\n",
    "> When he began implementing Python, Guido van Rossum was also reading the published scripts from “Monty Python’s Flying Circus”, a BBC comedy series from the 1970s.  \n",
    "> Van Rossum thought he needed a name that was short, unique, and slightly mysterious, so he decided to call the language Python."
   ]
  },
  {
   "cell_type": "markdown",
   "id": "41424388",
   "metadata": {
    "slideshow": {
     "slide_type": "subslide"
    }
   },
   "source": [
    "### 1.2 Uveď celé jméno otce Pythonu\n",
    "3 body"
   ]
  },
  {
   "cell_type": "markdown",
   "id": "e78eb066",
   "metadata": {
    "slideshow": {
     "slide_type": "fragment"
    }
   },
   "source": [
    "Guido van Rossum"
   ]
  },
  {
   "cell_type": "markdown",
   "id": "c5025933",
   "metadata": {
    "slideshow": {
     "slide_type": "subslide"
    }
   },
   "source": [
    "### 1.3 Jakou samozvanou funkci (titul) má v rámci Pythonu jeho tvůrce?  \n",
    "2 body"
   ]
  },
  {
   "cell_type": "markdown",
   "id": "3222d5ba",
   "metadata": {
    "slideshow": {
     "slide_type": "fragment"
    }
   },
   "source": [
    "BDFL - [Benevolent dictator for life](https://en.wikipedia.org/wiki/Benevolent_dictator_for_life)"
   ]
  },
  {
   "cell_type": "markdown",
   "id": "d521cd64",
   "metadata": {
    "slideshow": {
     "slide_type": "fragment"
    }
   },
   "source": [
    "[Odstoupil](https://mail.python.org/pipermail/python-committers/2018-July/005664.html) po neshodách ohledně [PEP 572](https://peps.python.org/pep-0572/) - Assignment Expressions `:=`"
   ]
  },
  {
   "cell_type": "markdown",
   "id": "f1373615",
   "metadata": {
    "slideshow": {
     "slide_type": "subslide"
    }
   },
   "source": [
    "### 1.4 Kdy začal vývoj Pythonu?\n",
    "Rok a měsíc\n",
    "2 body"
   ]
  },
  {
   "cell_type": "markdown",
   "id": "55f8ef44",
   "metadata": {
    "slideshow": {
     "slide_type": "fragment"
    }
   },
   "source": [
    "Prosinec 1989"
   ]
  },
  {
   "cell_type": "markdown",
   "id": "9ccd269e",
   "metadata": {
    "slideshow": {
     "slide_type": "subslide"
    }
   },
   "source": [
    "### 1.5 Významné releasy.\n",
    "Rok a měsíc, po 2 bodech  "
   ]
  },
  {
   "cell_type": "markdown",
   "id": "7626635e",
   "metadata": {
    "slideshow": {
     "slide_type": "fragment"
    }
   },
   "source": [
    "- první release - Únor 1991\n",
    "- verze 1.0&nbsp;&nbsp;&nbsp;&nbsp;&nbsp;&nbsp;&nbsp;- Leden 1994\n",
    "- verze 2.0&nbsp;&nbsp;&nbsp;&nbsp;&nbsp;&nbsp;&nbsp;- Říjen 2000\n",
    "- verze 3.0&nbsp;&nbsp;&nbsp;&nbsp;&nbsp;&nbsp;&nbsp;- Prosinec 2008"
   ]
  },
  {
   "cell_type": "markdown",
   "id": "676ddfe6",
   "metadata": {
    "slideshow": {
     "slide_type": "slide"
    }
   },
   "source": [
    "## 2. Tipovačka"
   ]
  }
 ],
 "metadata": {
  "celltoolbar": "Slideshow",
  "kernelspec": {
   "display_name": "Python 3 (ipykernel)",
   "language": "python",
   "name": "python3"
  },
  "language_info": {
   "codemirror_mode": {
    "name": "ipython",
    "version": 3
   },
   "file_extension": ".py",
   "mimetype": "text/x-python",
   "name": "python",
   "nbconvert_exporter": "python",
   "pygments_lexer": "ipython3",
   "version": "3.10.5"
  }
 },
 "nbformat": 4,
 "nbformat_minor": 5
}
