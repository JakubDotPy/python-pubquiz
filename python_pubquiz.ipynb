{
 "cells": [
  {
   "cell_type": "markdown",
   "id": "c7485657",
   "metadata": {
    "slideshow": {
     "slide_type": "slide"
    }
   },
   "source": [
    "<h1 style=\"font-size:70px;\">Plzeňské Pyvo # 28</h1>\n",
    "14. 09. 2022"
   ]
  },
  {
   "cell_type": "markdown",
   "id": "daca6b6a",
   "metadata": {
    "slideshow": {
     "slide_type": "fragment"
    }
   },
   "source": [
    "<div style=\"font-size:90px;font-weight:bold;width:400px;display:block;float:left;\">\n",
    "    <p style=\"color:#306998;float:left;text-align:left;\">Py</p>\n",
    "    <p style=\"color:#FFD43B;float:left;text-align:right;\">Kviz</p>\n",
    "</div>"
   ]
  },
  {
   "cell_type": "code",
   "execution_count": 1,
   "id": "c5f59145",
   "metadata": {
    "slideshow": {
     "slide_type": "fragment"
    }
   },
   "outputs": [
    {
     "name": "stdout",
     "output_type": "stream",
     "text": [
      "Vítejte!\n"
     ]
    }
   ],
   "source": [
    "print('Vítejte!')"
   ]
  },
  {
   "cell_type": "markdown",
   "id": "48f363b1",
   "metadata": {
    "slideshow": {
     "slide_type": "slide"
    }
   },
   "source": [
    "## Úvodní slovo\n",
    "- zápisné / cena pro vítěze\n",
    "- průběh kvízu\n",
    "- hodnocení / bodování"
   ]
  },
  {
   "cell_type": "markdown",
   "id": "22aa74af",
   "metadata": {
    "slideshow": {
     "slide_type": "slide"
    }
   },
   "source": [
    "## Bonusové úkoly\n",
    "Řešte v průběhu kvízu na zadní stranu.  \n",
    "Po skončení kvízu bude pár minut na dokončení."
   ]
  },
  {
   "cell_type": "markdown",
   "id": "6fadea68",
   "metadata": {
    "slideshow": {
     "slide_type": "subslide"
    }
   },
   "source": [
    "### Napište co nejvíce bodů (veršů) ze \"Zen of python\".\n",
    "1 bod za každý (celkem 19)"
   ]
  },
  {
   "cell_type": "markdown",
   "id": "aad69dac",
   "metadata": {
    "slideshow": {
     "slide_type": "subslide"
    }
   },
   "source": [
    "### Naprogramujte \"na papír\" - FizzBuzz pro čísla [1, n]\n",
    "\n",
    "10 bodů  \n",
    "\n",
    "Vypíše:\n",
    "- 'Fizz', pokud je číslo dělitelné 3\n",
    "- 'Buzz', pokud je dělitelné 5\n",
    "- 'FizzBuzz', pokud je dělitelné 3 i 5\n",
    "- číslo, pokud neplatí nic výše\n",
    "\n",
    "1, \n",
    "2, \n",
    "Fizz, \n",
    "4, \n",
    "Buzz, \n",
    "Fizz, \n",
    "7, \n",
    "8, \n",
    "Fizz, \n",
    "Buzz, \n",
    "11, \n",
    "Fizz, \n",
    "13, \n",
    "14, \n",
    "FizzBuzz, \n",
    "16, \n",
    "17, \n",
    "Fizz, \n",
    "19, \n",
    "Buzz\n",
    "\n",
    "<p style=\"color:red;font-size:40px;\">Bez použití 'if'!</p>\n"
   ]
  },
  {
   "cell_type": "markdown",
   "id": "cbda7ff7",
   "metadata": {
    "slideshow": {
     "slide_type": "slide"
    }
   },
   "source": [
    "## 0. Na rozehřátí"
   ]
  },
  {
   "cell_type": "markdown",
   "id": "322aa060",
   "metadata": {
    "slideshow": {
     "slide_type": "subslide"
    }
   },
   "source": [
    "### 0.0 Variable fun\n",
    "1 bod\n",
    "\n",
    "```python\n",
    "a = 10\n",
    "b = 5\n",
    "c = a * b\n",
    "\n",
    "b = 6\n",
    "print('výsledek je:', c)\n",
    "```"
   ]
  },
  {
   "cell_type": "markdown",
   "id": "7b5cee34",
   "metadata": {
    "slideshow": {
     "slide_type": "subslide"
    }
   },
   "source": [
    "### 0.1 Rozcvičení pozornosti\n",
    "1 bod\n",
    "\n",
    "```python\n",
    "def foo(a, b=5, c=7, d=2):\n",
    "    return a + d * c / d\n",
    "\n",
    "print('výsledek je:', foo(b=2, a=2, d=4))\n",
    "```"
   ]
  },
  {
   "cell_type": "markdown",
   "id": "9b4a1752",
   "metadata": {
    "slideshow": {
     "slide_type": "subslide"
    }
   },
   "source": [
    "### 0.2 Operace s operátory\n",
    "1 bod\n",
    "\n",
    "```python\n",
    "foo = 20 % 7\n",
    "bar = foo // 2\n",
    "baz = foo or bar\n",
    "\n",
    "print('výsledek je:', baz)\n",
    "```"
   ]
  },
  {
   "cell_type": "markdown",
   "id": "dab59fcf",
   "metadata": {
    "slideshow": {
     "slide_type": "subslide"
    }
   },
   "source": [
    "### 0.3 Listování\n",
    "1 bod\n",
    "\n",
    "```python\n",
    "foo = [a * 2 for a in range(5)]\n",
    "bar = [sum(foo)] * 2 + list(range(3, 6))\n",
    "\n",
    "print('výsledek je:', bar)\n",
    "```"
   ]
  },
  {
   "cell_type": "markdown",
   "id": "83a64de3",
   "metadata": {
    "slideshow": {
     "slide_type": "subslide"
    }
   },
   "source": [
    "### 0.4 foo(*args, **kwargs)\n",
    "1 bod\n",
    "\n",
    "```python\n",
    "def foo(*args, **kwargs)\n",
    "    return sum(args) + sum(kwargs.values())\n",
    "```\n",
    "\n",
    "Zavolejte tuto funkci s použtím minimálně dvou `args` i `kwargs` tak, aby výsledek byl `20`.\n"
   ]
  },
  {
   "cell_type": "markdown",
   "id": "2831c5d2",
   "metadata": {
    "slideshow": {
     "slide_type": "slide"
    }
   },
   "source": [
    "## 0. Na rozehřátí - Řešení"
   ]
  },
  {
   "cell_type": "markdown",
   "id": "fcee27f3",
   "metadata": {
    "slideshow": {
     "slide_type": "subslide"
    }
   },
   "source": [
    "### 0.0 Variable fun\n",
    "1 bod\n",
    "\n",
    "```python\n",
    "a = 10\n",
    "b = 5\n",
    "c = a * b\n",
    "\n",
    "b = 6\n",
    "print('výsledek je:', c)\n",
    "```"
   ]
  },
  {
   "cell_type": "code",
   "execution_count": 2,
   "id": "30023ced",
   "metadata": {
    "slideshow": {
     "slide_type": "fragment"
    }
   },
   "outputs": [
    {
     "name": "stdout",
     "output_type": "stream",
     "text": [
      "výsledek je: 50\n"
     ]
    }
   ],
   "source": [
    "a = 10\n",
    "b = 5\n",
    "c = a * b\n",
    "\n",
    "b = 6\n",
    "print('výsledek je:', c)"
   ]
  },
  {
   "cell_type": "markdown",
   "id": "fc04c50d",
   "metadata": {
    "slideshow": {
     "slide_type": "subslide"
    }
   },
   "source": [
    "### 0.1 Rozcvičení pozornosti\n",
    "1 bod\n",
    "\n",
    "```python\n",
    "def foo(a, b=5, c=7, d=2):\n",
    "    return a + d * c / d\n",
    "\n",
    "print('výsledek je:', foo(b=2, a=2, d=4))\n",
    "```"
   ]
  },
  {
   "cell_type": "code",
   "execution_count": 3,
   "id": "b79b2876",
   "metadata": {
    "slideshow": {
     "slide_type": "fragment"
    }
   },
   "outputs": [
    {
     "name": "stdout",
     "output_type": "stream",
     "text": [
      "výsledek je: 9.0\n"
     ]
    }
   ],
   "source": [
    "def foo(a, b=5, c=7, d=2):\n",
    "    return a + d * c / d\n",
    "\n",
    "print('výsledek je:', foo(b=2, a=2, d=4))"
   ]
  },
  {
   "cell_type": "markdown",
   "id": "d478b31c",
   "metadata": {
    "slideshow": {
     "slide_type": "subslide"
    }
   },
   "source": [
    "### 0.2 Operace s operátory\n",
    "1 bod\n",
    "\n",
    "```python\n",
    "foo = 20 % 7\n",
    "bar = foo // 2\n",
    "baz = foo or bar\n",
    "\n",
    "print('výsledek je:', baz)\n",
    "```"
   ]
  },
  {
   "cell_type": "code",
   "execution_count": 4,
   "id": "4d4f1dda",
   "metadata": {
    "slideshow": {
     "slide_type": "fragment"
    }
   },
   "outputs": [
    {
     "name": "stdout",
     "output_type": "stream",
     "text": [
      "výsledek je: 6\n"
     ]
    }
   ],
   "source": [
    "foo = 20 % 7\n",
    "bar = foo // 2\n",
    "baz = foo or bar\n",
    "\n",
    "print('výsledek je:', baz)"
   ]
  },
  {
   "cell_type": "markdown",
   "id": "f2859107",
   "metadata": {
    "slideshow": {
     "slide_type": "subslide"
    }
   },
   "source": [
    "### 0.3 Listování\n",
    "1 bod\n",
    "\n",
    "```python\n",
    "foo = [a * 2 for a in range(5)]\n",
    "bar = [sum(foo)] * 2 + list(range(3, 6))\n",
    "\n",
    "print('výsledek je:', bar)\n",
    "```"
   ]
  },
  {
   "cell_type": "code",
   "execution_count": 5,
   "id": "d70f0e96",
   "metadata": {
    "slideshow": {
     "slide_type": "fragment"
    }
   },
   "outputs": [
    {
     "name": "stdout",
     "output_type": "stream",
     "text": [
      "výsledek je: [20, 20, 3, 4, 5]\n"
     ]
    }
   ],
   "source": [
    "foo = [a * 2 for a in range(5)]\n",
    "bar = [sum(foo)] * 2 + list(range(3, 6))\n",
    "\n",
    "print('výsledek je:', bar)"
   ]
  },
  {
   "cell_type": "markdown",
   "id": "a9d29e9a",
   "metadata": {
    "slideshow": {
     "slide_type": "subslide"
    }
   },
   "source": [
    "### 0.4 foo(*args, **kwargs)\n",
    "1 bod\n",
    "\n",
    "```python\n",
    "def foo(*args, **kwargs):\n",
    "    return sum(args) + sum(kwargs.values())\n",
    "```\n",
    "\n",
    "Zavolejte tuto funkci s použtím minimálně dvou `args` i `kwargs` tak, aby výsledek byl `20`.\n"
   ]
  },
  {
   "cell_type": "code",
   "execution_count": 6,
   "id": "0079b6d6",
   "metadata": {
    "slideshow": {
     "slide_type": "fragment"
    }
   },
   "outputs": [
    {
     "name": "stdout",
     "output_type": "stream",
     "text": [
      "foo(4, 5, a=6, b=5) = 20\n",
      "foo(1, 1, 1, 1, 1, c=5, d=5, e=5) = 20\n"
     ]
    }
   ],
   "source": [
    "def foo(*args, **kwargs):\n",
    "    return sum(args) + sum(kwargs.values())\n",
    "\n",
    "print(f'{foo(4, 5, a=6, b=5) = }')\n",
    "print(f'{foo(1, 1, 1, 1, 1, c=5, d=5, e=5) = }')"
   ]
  },
  {
   "cell_type": "markdown",
   "id": "4701df00",
   "metadata": {
    "slideshow": {
     "slide_type": "slide"
    }
   },
   "source": [
    "## 1. Z historie Pythonu"
   ]
  },
  {
   "cell_type": "markdown",
   "id": "f8bf2fbb",
   "metadata": {
    "slideshow": {
     "slide_type": "subslide"
    }
   },
   "source": [
    "### 1.0 Popiš, odkud pochází název Python\n",
    "1 bod"
   ]
  },
  {
   "cell_type": "markdown",
   "id": "3b1b688a",
   "metadata": {
    "slideshow": {
     "slide_type": "subslide"
    }
   },
   "source": [
    "### 1.1 Uveď celé jméno otce Pythonu\n",
    "3 body"
   ]
  },
  {
   "cell_type": "markdown",
   "id": "32341961",
   "metadata": {
    "slideshow": {
     "slide_type": "subslide"
    }
   },
   "source": [
    "### 1.2 Jakou samozvanou funkci (titul) měl v rámci Pythonu jeho tvůrce? \n",
    "2 body\n",
    "- Z funkce odstoupil 12. července 2018. Bonusová otázka (2b) - proč?"
   ]
  },
  {
   "cell_type": "markdown",
   "id": "6deef261",
   "metadata": {
    "slideshow": {
     "slide_type": "subslide"
    }
   },
   "source": [
    "### 1.3 Kdy začal vývoj Pythonu?\n",
    "Rok a měsíc  \n",
    "2 body"
   ]
  },
  {
   "cell_type": "markdown",
   "id": "bfdc4643",
   "metadata": {
    "slideshow": {
     "slide_type": "subslide"
    }
   },
   "source": [
    "### 1.4 Významné releasy.\n",
    "Rok a měsíc, po 2 bodech  \n",
    "- první release\n",
    "- verze 1.0\n",
    "- verze 2.0\n",
    "- verze 3.0"
   ]
  },
  {
   "cell_type": "markdown",
   "id": "676e52dc",
   "metadata": {
    "slideshow": {
     "slide_type": "slide"
    }
   },
   "source": [
    "## 1. Z historie Pythonu - Řešení\n",
    "https://en.wikipedia.org/wiki/History_of_Python"
   ]
  },
  {
   "cell_type": "markdown",
   "id": "7ca4f65f",
   "metadata": {
    "slideshow": {
     "slide_type": "subslide"
    }
   },
   "source": [
    "### 1.0 Popiš, odkud pochází název Python\n",
    "1 bod"
   ]
  },
  {
   "cell_type": "markdown",
   "id": "411d4949",
   "metadata": {
    "slideshow": {
     "slide_type": "fragment"
    }
   },
   "source": [
    "Je pojmenován podle britského komediálního seriálu \"Monty Python’s Flying Circus\".\n",
    "\n",
    "Z [dokumentace](https://docs.python.org/3/faq/general.html#why-is-it-called-python):\n",
    "> When he began implementing Python, Guido van Rossum was also reading the published scripts from “Monty Python’s Flying Circus”, a BBC comedy series from the 1970s.  \n",
    "> Van Rossum thought he needed a name that was short, unique, and slightly mysterious, so he decided to call the language Python."
   ]
  },
  {
   "cell_type": "markdown",
   "id": "41424388",
   "metadata": {
    "slideshow": {
     "slide_type": "subslide"
    }
   },
   "source": [
    "### 1.1 Uveď celé jméno otce Pythonu\n",
    "3 body"
   ]
  },
  {
   "cell_type": "markdown",
   "id": "e78eb066",
   "metadata": {
    "slideshow": {
     "slide_type": "fragment"
    }
   },
   "source": [
    "Guido van Rossum"
   ]
  },
  {
   "cell_type": "markdown",
   "id": "c5025933",
   "metadata": {
    "slideshow": {
     "slide_type": "subslide"
    }
   },
   "source": [
    "### 1.2 Jakou samozvanou funkci (titul) má v rámci Pythonu jeho tvůrce?  \n",
    "2 body"
   ]
  },
  {
   "cell_type": "markdown",
   "id": "3222d5ba",
   "metadata": {
    "slideshow": {
     "slide_type": "fragment"
    }
   },
   "source": [
    "BDFL - [Benevolent dictator for life](https://en.wikipedia.org/wiki/Benevolent_dictator_for_life)"
   ]
  },
  {
   "cell_type": "markdown",
   "id": "d521cd64",
   "metadata": {
    "slideshow": {
     "slide_type": "fragment"
    }
   },
   "source": [
    "[Odstoupil](https://mail.python.org/pipermail/python-committers/2018-July/005664.html) po neshodách ohledně [PEP 572](https://peps.python.org/pep-0572/) - Assignment Expressions `:=`"
   ]
  },
  {
   "cell_type": "markdown",
   "id": "f1373615",
   "metadata": {
    "slideshow": {
     "slide_type": "subslide"
    }
   },
   "source": [
    "### 1.3 Kdy začal vývoj Pythonu?\n",
    "Rok a měsíc\n",
    "2 body"
   ]
  },
  {
   "cell_type": "markdown",
   "id": "55f8ef44",
   "metadata": {
    "slideshow": {
     "slide_type": "fragment"
    }
   },
   "source": [
    "Prosinec 1989"
   ]
  },
  {
   "cell_type": "markdown",
   "id": "9ccd269e",
   "metadata": {
    "slideshow": {
     "slide_type": "subslide"
    }
   },
   "source": [
    "### 1.4 Významné releasy.\n",
    "Rok a měsíc, po 2 bodech  "
   ]
  },
  {
   "cell_type": "markdown",
   "id": "7626635e",
   "metadata": {
    "slideshow": {
     "slide_type": "fragment"
    }
   },
   "source": [
    "- první release - Únor 1991\n",
    "- verze 1.0 - Leden 1994\n",
    "- verze 2.0 - Říjen 2000\n",
    "- verze 3.0 - Prosinec 2008"
   ]
  },
  {
   "cell_type": "markdown",
   "id": "23df3c10",
   "metadata": {
    "slideshow": {
     "slide_type": "slide"
    }
   },
   "source": [
    "## 2. WTF Python?!\n",
    "Napište výsledek operace."
   ]
  },
  {
   "cell_type": "markdown",
   "id": "aad1379e",
   "metadata": {
    "slideshow": {
     "slide_type": "subslide"
    }
   },
   "source": [
    "### 2.0 Chained comparisons\n",
    "po 1 bodu\n",
    "```python\n",
    "True is False == False\n",
    "False is False is False\n",
    "False == False in [False]\n",
    "```"
   ]
  },
  {
   "cell_type": "markdown",
   "id": "75609d9c",
   "metadata": {
    "slideshow": {
     "slide_type": "subslide"
    }
   },
   "source": [
    "### 2.1 ID please\n",
    "1 bod\n",
    "```python\n",
    "class Wtf:\n",
    "    pass\n",
    "\n",
    "id(Wtf()) == id(Wtf())\n",
    "```"
   ]
  },
  {
   "cell_type": "markdown",
   "id": "b159a2a2",
   "metadata": {
    "slideshow": {
     "slide_type": "subslide"
    }
   },
   "source": [
    "### 2.2 Round and Round and Round...\n",
    "1 bod\n",
    "```python\n",
    "round(1.3), round(1.5), round(2.5), round(3.7), round(4.6), round(4.5)\n",
    "```"
   ]
  },
  {
   "cell_type": "markdown",
   "id": "6a10963c",
   "metadata": {
    "slideshow": {
     "slide_type": "subslide"
    }
   },
   "source": [
    "### 2.3 Ternary fun\n",
    "1 bod\n",
    "```python\n",
    "x, y = (0, 1) if True else None, None\n",
    "```"
   ]
  },
  {
   "cell_type": "markdown",
   "id": "9d7020e4",
   "metadata": {
    "slideshow": {
     "slide_type": "subslide"
    }
   },
   "source": [
    "### 2.4 Wild imports *\n",
    "1 bod\n",
    "```python\n",
    "# File: module.py\n",
    "def some_weird_name_func_():\n",
    "    print(\"works!\")\n",
    "\n",
    "def _another_weird_name_func():\n",
    "    print(\"works!\")\n",
    "    \n",
    "# co vypise?:\n",
    "from module import *\n",
    "some_weird_name_func_()\n",
    "_another_weird_name_func()\n",
    "```"
   ]
  },
  {
   "cell_type": "markdown",
   "id": "8b339f7b",
   "metadata": {
    "slideshow": {
     "slide_type": "subslide"
    }
   },
   "source": [
    "### 2.5 Sorting fun\n",
    "3 body\n",
    "```python\n",
    "x = 7, 8, 9\n",
    "sorted(x) == x  # 1 bod\n",
    "sorted(x) == sorted(x)  # 1 bod\n",
    "\n",
    "y = reversed(x)\n",
    "sorted(y) == sorted(y)  # 1 bod\n",
    "```"
   ]
  },
  {
   "cell_type": "markdown",
   "id": "6cf978af",
   "metadata": {
    "slideshow": {
     "slide_type": "subslide"
    }
   },
   "source": [
    "### 2.6 Hash of infinity\n",
    "1 bod  \n",
    "Jaký je hash nekonečna?"
   ]
  },
  {
   "cell_type": "markdown",
   "id": "2d03baf3",
   "metadata": {
    "slideshow": {
     "slide_type": "slide"
    }
   },
   "source": [
    "## 2. WTF Python?! - Řešení"
   ]
  },
  {
   "cell_type": "markdown",
   "id": "676ddfe6",
   "metadata": {
    "slideshow": {
     "slide_type": "subslide"
    }
   },
   "source": [
    "### 2.0 Chained comparisons\n",
    "po 1 bodu\n",
    "```python\n",
    "True is False == False\n",
    "False is False is False\n",
    "False == False in [False]\n",
    "```"
   ]
  },
  {
   "cell_type": "code",
   "execution_count": 7,
   "id": "ab3f5779",
   "metadata": {
    "slideshow": {
     "slide_type": "fragment"
    }
   },
   "outputs": [
    {
     "data": {
      "text/plain": [
       "False"
      ]
     },
     "execution_count": 7,
     "metadata": {},
     "output_type": "execute_result"
    }
   ],
   "source": [
    "True is False == False"
   ]
  },
  {
   "cell_type": "code",
   "execution_count": 8,
   "id": "799c9741",
   "metadata": {
    "slideshow": {
     "slide_type": "fragment"
    }
   },
   "outputs": [
    {
     "data": {
      "text/plain": [
       "True"
      ]
     },
     "execution_count": 8,
     "metadata": {},
     "output_type": "execute_result"
    }
   ],
   "source": [
    "False is False is False"
   ]
  },
  {
   "cell_type": "code",
   "execution_count": 9,
   "id": "96b56cc4",
   "metadata": {
    "slideshow": {
     "slide_type": "fragment"
    }
   },
   "outputs": [
    {
     "data": {
      "text/plain": [
       "True"
      ]
     },
     "execution_count": 9,
     "metadata": {},
     "output_type": "execute_result"
    }
   ],
   "source": [
    "False == False in [False]"
   ]
  },
  {
   "cell_type": "markdown",
   "id": "ef0c0517",
   "metadata": {
    "slideshow": {
     "slide_type": "fragment"
    }
   },
   "source": [
    "U \"chained\" operátorů se provede rozklad na dvojice spojené pomocí `and`.<br>\n",
    "`False == False in [False]` ->`(False == False) and (False in [False])`"
   ]
  },
  {
   "cell_type": "markdown",
   "id": "986fb91b",
   "metadata": {
    "slideshow": {
     "slide_type": "subslide"
    }
   },
   "source": [
    "### 2.1 ID please\n",
    "1 bod\n",
    "```python\n",
    "class Wtf:\n",
    "    pass\n",
    "\n",
    "id(Wtf()) == id(Wtf())\n",
    "```"
   ]
  },
  {
   "cell_type": "code",
   "execution_count": 10,
   "id": "0193bd15",
   "metadata": {
    "slideshow": {
     "slide_type": "fragment"
    }
   },
   "outputs": [
    {
     "data": {
      "text/plain": [
       "True"
      ]
     },
     "execution_count": 10,
     "metadata": {},
     "output_type": "execute_result"
    }
   ],
   "source": [
    "class Wtf:\n",
    "    pass\n",
    "\n",
    "id(Wtf()) == id(Wtf())"
   ]
  },
  {
   "cell_type": "code",
   "execution_count": 11,
   "id": "6ffd6180",
   "metadata": {
    "slideshow": {
     "slide_type": "subslide"
    }
   },
   "outputs": [],
   "source": [
    "\"\"\"\n",
    "When id was called, Python created a WTF class object and passed it to the id function.\n",
    "The id function takes its id (its memory location), and throws away the object. The object is destroyed.\n",
    "\"\"\"\n",
    "import random, string\n",
    "class WTF(object):\n",
    "  def __init__(self):\n",
    "    self.name = random.choice(string.ascii_lowercase)  # jmeno je nahodne pismeno\n",
    "    print(f'Init {self.name}')\n",
    "  def __del__(self):\n",
    "    print(f'Delete {self.name}')"
   ]
  },
  {
   "cell_type": "code",
   "execution_count": 12,
   "id": "d8025eb0",
   "metadata": {
    "slideshow": {
     "slide_type": "fragment"
    }
   },
   "outputs": [
    {
     "name": "stdout",
     "output_type": "stream",
     "text": [
      "Init z\n",
      "Init o\n",
      "Delete z\n",
      "Delete o\n"
     ]
    },
    {
     "data": {
      "text/plain": [
       "False"
      ]
     },
     "execution_count": 12,
     "metadata": {},
     "output_type": "execute_result"
    }
   ],
   "source": [
    "WTF() is WTF()"
   ]
  },
  {
   "cell_type": "code",
   "execution_count": 13,
   "id": "249d4e05",
   "metadata": {
    "slideshow": {
     "slide_type": "fragment"
    }
   },
   "outputs": [
    {
     "name": "stdout",
     "output_type": "stream",
     "text": [
      "Init v\n",
      "Delete v\n",
      "Init c\n",
      "Delete c\n"
     ]
    },
    {
     "data": {
      "text/plain": [
       "False"
      ]
     },
     "execution_count": 13,
     "metadata": {},
     "output_type": "execute_result"
    }
   ],
   "source": [
    "id(WTF()) == id(WTF())"
   ]
  },
  {
   "cell_type": "markdown",
   "id": "e74497e5",
   "metadata": {
    "slideshow": {
     "slide_type": "subslide"
    }
   },
   "source": [
    "### 2.2 Round and Round and Round...\n",
    "1 bod\n",
    "```python\n",
    "round(1.3), round(1.5), round(2.5), round(3.7), round(4.6), round(4.5)\n",
    "```"
   ]
  },
  {
   "cell_type": "code",
   "execution_count": 14,
   "id": "683d222f",
   "metadata": {
    "slideshow": {
     "slide_type": "fragment"
    }
   },
   "outputs": [
    {
     "data": {
      "text/plain": [
       "(1, 2, 2, 4, 5, 4)"
      ]
     },
     "execution_count": 14,
     "metadata": {},
     "output_type": "execute_result"
    }
   ],
   "source": [
    "round(1.3), round(1.5), round(2.5), round(3.7), round(4.6), round(4.5)"
   ]
  },
  {
   "cell_type": "markdown",
   "id": "3268fd4e",
   "metadata": {
    "slideshow": {
     "slide_type": "fragment"
    }
   },
   "source": [
    "Základní zaokrouhlování v Pythonu zaokrouhluje `.5` k nejbližšímu sudému číslu.  \n",
    "Známé jako: `Round half to even`, `Banker's rounding`"
   ]
  },
  {
   "cell_type": "markdown",
   "id": "0e5b8ef3",
   "metadata": {
    "slideshow": {
     "slide_type": "subslide"
    }
   },
   "source": [
    "### 2.3 Ternary fun\n",
    "1 bod\n",
    "```python\n",
    "x, y = (0, 1) if True else None, None\n",
    "```"
   ]
  },
  {
   "cell_type": "code",
   "execution_count": 15,
   "id": "bc54b4bb",
   "metadata": {
    "slideshow": {
     "slide_type": "fragment"
    }
   },
   "outputs": [
    {
     "name": "stdout",
     "output_type": "stream",
     "text": [
      "x = (0, 1)\n",
      "y = None\n"
     ]
    }
   ],
   "source": [
    "x, y = (0, 1) if True else None, None\n",
    "print(f'{x = }')\n",
    "print(f'{y = }')"
   ]
  },
  {
   "cell_type": "markdown",
   "id": "2cd5f97c",
   "metadata": {
    "slideshow": {
     "slide_type": "subslide"
    }
   },
   "source": [
    "### 2.4 Wild imports *\n",
    "1 bod\n",
    "```python\n",
    "some_weird_name_func_()\n",
    "_another_weird_name_func()\n",
    "```"
   ]
  },
  {
   "cell_type": "code",
   "execution_count": 16,
   "id": "bb0615e6",
   "metadata": {
    "slideshow": {
     "slide_type": "fragment"
    }
   },
   "outputs": [
    {
     "name": "stdout",
     "output_type": "stream",
     "text": [
      "works!\n",
      "NameError: name '_another_weird_name_func' is not defined\n"
     ]
    }
   ],
   "source": [
    "from module import *\n",
    "some_weird_name_func_()\n",
    "try:\n",
    "    _another_weird_name_func()\n",
    "except NameError as e:\n",
    "    print(f'NameError: {e}')"
   ]
  },
  {
   "cell_type": "markdown",
   "id": "c789bf8e",
   "metadata": {
    "slideshow": {
     "slide_type": "fragment"
    }
   },
   "source": [
    "Názvy s podtržítky na začátku nejsou při wildcard importech naimportovány."
   ]
  },
  {
   "cell_type": "markdown",
   "id": "c0afcd74",
   "metadata": {
    "slideshow": {
     "slide_type": "subslide"
    }
   },
   "source": [
    "### 2.5 Sorting fun\n",
    "3 body\n",
    "```python\n",
    "x = 7, 8, 9\n",
    "sorted(x) == x  # 1 bod\n",
    "sorted(x) == sorted(x)  # 1 bod\n",
    "\n",
    "y = reversed(x)\n",
    "sorted(y) == sorted(y)  # 1 bod\n",
    "```"
   ]
  },
  {
   "cell_type": "code",
   "execution_count": 17,
   "id": "8e8c7097",
   "metadata": {
    "slideshow": {
     "slide_type": "subslide"
    }
   },
   "outputs": [
    {
     "data": {
      "text/plain": [
       "False"
      ]
     },
     "execution_count": 17,
     "metadata": {},
     "output_type": "execute_result"
    }
   ],
   "source": [
    "x = 7, 8, 9\n",
    "sorted(x) == x"
   ]
  },
  {
   "cell_type": "code",
   "execution_count": 18,
   "id": "88d02d7a",
   "metadata": {
    "slideshow": {
     "slide_type": "fragment"
    }
   },
   "outputs": [
    {
     "data": {
      "text/plain": [
       "True"
      ]
     },
     "execution_count": 18,
     "metadata": {},
     "output_type": "execute_result"
    }
   ],
   "source": [
    "sorted(x) == sorted(x)"
   ]
  },
  {
   "cell_type": "code",
   "execution_count": 19,
   "id": "99f9225d",
   "metadata": {
    "slideshow": {
     "slide_type": "fragment"
    }
   },
   "outputs": [
    {
     "data": {
      "text/plain": [
       "False"
      ]
     },
     "execution_count": 19,
     "metadata": {},
     "output_type": "execute_result"
    }
   ],
   "source": [
    "y = reversed(x)\n",
    "sorted(y) == sorted(y)"
   ]
  },
  {
   "cell_type": "markdown",
   "id": "3d5fee32",
   "metadata": {
    "slideshow": {
     "slide_type": "fragment"
    }
   },
   "source": [
    "- `sorted()` vždy vrací list. V prvním výrazu se tak porovnává list s tuple, což vždy vrací `False`\n",
    "- Druhý viz první.\n",
    "- `reversed()` vrací iterátor. Ten je po prvním `sorted` \"vyčerpaný\" a druhý sorted tak vrací prázdný list."
   ]
  },
  {
   "cell_type": "markdown",
   "id": "b67c8220",
   "metadata": {
    "slideshow": {
     "slide_type": "subslide"
    }
   },
   "source": [
    "### 2.6 Hash of infinity\n",
    "1 bod  \n",
    "Jaký je hash nekonečna?"
   ]
  },
  {
   "cell_type": "code",
   "execution_count": 20,
   "id": "8b16fb52",
   "metadata": {
    "slideshow": {
     "slide_type": "fragment"
    }
   },
   "outputs": [
    {
     "data": {
      "text/plain": [
       "314159"
      ]
     },
     "execution_count": 20,
     "metadata": {},
     "output_type": "execute_result"
    }
   ],
   "source": [
    "hash(float('infinity'))"
   ]
  },
  {
   "cell_type": "markdown",
   "id": "6df82adf",
   "metadata": {
    "slideshow": {
     "slide_type": "slide"
    }
   },
   "source": [
    "## 3. Tipovačka"
   ]
  },
  {
   "cell_type": "markdown",
   "id": "07fa5185",
   "metadata": {
    "slideshow": {
     "slide_type": "subslide"
    }
   },
   "source": [
    "### 3.0 Kdy bylo vůbec první Pyvo?\n",
    "První tři nejbližší 1 bod.  \n",
    "Pokud bude někdo v toleranci +- půl roku, 3 body.\n",
    "- české (které)\n",
    "- plzeňské"
   ]
  },
  {
   "cell_type": "markdown",
   "id": "63941921",
   "metadata": {
    "slideshow": {
     "slide_type": "subslide"
    }
   },
   "source": [
    "### 3.1 Kolik je v tuto chvíli na Stack Overflow otázek s tagem \"Python\"?\n",
    "První tři nejbližší 1 bod.  \n",
    "Pokud bude někdo v toleranci +-200_000, 3 body."
   ]
  },
  {
   "cell_type": "markdown",
   "id": "8c36ecdb",
   "metadata": {
    "slideshow": {
     "slide_type": "subslide"
    }
   },
   "source": [
    "### 3.2 Kolik \"keywords\" má python?\n",
    "1 bod"
   ]
  },
  {
   "cell_type": "markdown",
   "id": "c4874a4e",
   "metadata": {
    "slideshow": {
     "slide_type": "subslide"
    }
   },
   "source": [
    "### 3.3 Jaká je maximální hloubka rekurzivního volání?\n",
    "1 bod"
   ]
  },
  {
   "cell_type": "markdown",
   "id": "e4b38639",
   "metadata": {
    "slideshow": {
     "slide_type": "subslide"
    }
   },
   "source": [
    "### 3.4 Vyjmenuj všechny \"příchutě\" pythonu.\n",
    "po 1 bodu  \n",
    "nápověda: např. `CPython`"
   ]
  },
  {
   "cell_type": "markdown",
   "id": "6289e72c",
   "metadata": {
    "slideshow": {
     "slide_type": "slide"
    }
   },
   "source": [
    "## 3. Tipovačka - Řešení"
   ]
  },
  {
   "cell_type": "markdown",
   "id": "b9d41978",
   "metadata": {
    "slideshow": {
     "slide_type": "subslide"
    }
   },
   "source": [
    "### 3.0 Kdy bylo vůbec první Pyvo?\n",
    "První tři nejbližší 1 bod.  \n",
    "Pokud bude někdo v toleranci +- půl roku, 3 body.\n",
    "- české (které)\n",
    "- plzeňské"
   ]
  },
  {
   "cell_type": "markdown",
   "id": "722f5d17",
   "metadata": {
    "slideshow": {
     "slide_type": "fragment"
    }
   },
   "source": [
    "- české - 17.1.2011, pražské\n",
    "- plzeňské - 10.1.2018"
   ]
  },
  {
   "cell_type": "markdown",
   "id": "5d9ea218",
   "metadata": {
    "slideshow": {
     "slide_type": "subslide"
    }
   },
   "source": [
    "### 3.1 Kolik je v tuto chvíli na Stack Overflow otázek s tagem \"Python\"?\n",
    "První tři nejbližší 1 bod.  \n",
    "Pokud bude někdo v toleranci +-200_000, 3 body."
   ]
  },
  {
   "cell_type": "markdown",
   "id": "17d4affb",
   "metadata": {
    "slideshow": {
     "slide_type": "fragment"
    }
   },
   "source": [
    "2,016,389  \n",
    "Aktuální odpověď: https://stackoverflow.com/questions/tagged/python"
   ]
  },
  {
   "cell_type": "markdown",
   "id": "d93cf84b",
   "metadata": {
    "slideshow": {
     "slide_type": "subslide"
    }
   },
   "source": [
    "### 3.2 Kolik \"keywords\" má python?\n",
    "1 bod"
   ]
  },
  {
   "cell_type": "code",
   "execution_count": 21,
   "id": "dc5d5915",
   "metadata": {
    "scrolled": true,
    "slideshow": {
     "slide_type": "fragment"
    }
   },
   "outputs": [
    {
     "name": "stdout",
     "output_type": "stream",
     "text": [
      "['False', 'None', 'True', 'and', 'as', 'assert', 'async', 'await', 'break', 'class', 'continue', 'def', 'del', 'elif', 'else', 'except', 'finally', 'for', 'from', 'global', 'if', 'import', 'in', 'is', 'lambda', 'nonlocal', 'not', 'or', 'pass', 'raise', 'return', 'try', 'while', 'with', 'yield']\n"
     ]
    },
    {
     "data": {
      "text/plain": [
       "35"
      ]
     },
     "execution_count": 21,
     "metadata": {},
     "output_type": "execute_result"
    }
   ],
   "source": [
    "import keyword\n",
    "print(keyword.kwlist)\n",
    "len(keyword.kwlist)"
   ]
  },
  {
   "cell_type": "markdown",
   "id": "45007103",
   "metadata": {
    "slideshow": {
     "slide_type": "subslide"
    }
   },
   "source": [
    "### 3.3 Jaká je maximální hloubka rekurzivního volání?\n",
    "1 bod"
   ]
  },
  {
   "cell_type": "markdown",
   "id": "4ba76ff2",
   "metadata": {
    "slideshow": {
     "slide_type": "fragment"
    }
   },
   "source": [
    "Standartně `1000`, dá se [nastavit](https://docs.python.org/3.10/library/sys.html?highlight=recursionlimit#sys.getrecursionlimit) větší.  \n",
    "Záleží také na interpreteru. JupyterNotebook má např. `3000`."
   ]
  },
  {
   "cell_type": "code",
   "execution_count": 22,
   "id": "691f6e4e",
   "metadata": {
    "slideshow": {
     "slide_type": "fragment"
    }
   },
   "outputs": [
    {
     "data": {
      "text/plain": [
       "3000"
      ]
     },
     "execution_count": 22,
     "metadata": {},
     "output_type": "execute_result"
    }
   ],
   "source": [
    "import sys\n",
    "sys.getrecursionlimit()"
   ]
  },
  {
   "cell_type": "markdown",
   "id": "4167ffba",
   "metadata": {
    "slideshow": {
     "slide_type": "subslide"
    }
   },
   "source": [
    "### 3.4 Vyjmenuj všechny \"příchutě\" pythonu.\n",
    "po 1 bodu  \n",
    "nápověda: např. `CPython`"
   ]
  },
  {
   "cell_type": "markdown",
   "id": "c301bc23",
   "metadata": {
    "slideshow": {
     "slide_type": "fragment"
    }
   },
   "source": [
    "[zde](https://www.infoworld.com/article/3267976/12-pythons-for-every-programming-need.html) a [zde](https://www.gkindex.com/python-tutorial/python-flavours.jsp)\n",
    "- CPython\n",
    "- ActivePython\n",
    "- PyPy\n",
    "- Jython\n",
    "- IronPython\n",
    "- WinPython\n",
    "- MicroPython\n",
    "- RubyPython\n",
    "- Pythonxy\n",
    "- Pycopy\n",
    "- RustPython\n",
    "\n",
    "a další..."
   ]
  },
  {
   "cell_type": "markdown",
   "id": "79890a7c",
   "metadata": {
    "slideshow": {
     "slide_type": "slide"
    }
   },
   "source": [
    "## 4. Na Pyvu o pivu"
   ]
  },
  {
   "cell_type": "markdown",
   "id": "65f66a27",
   "metadata": {
    "slideshow": {
     "slide_type": "subslide"
    }
   },
   "source": [
    "### 4.0 Kdy byla uvařená první várka plzeňského ležáku? Který sládek?\n",
    "2 body"
   ]
  },
  {
   "cell_type": "markdown",
   "id": "78fe44c6",
   "metadata": {
    "slideshow": {
     "slide_type": "subslide"
    }
   },
   "source": [
    "### 4.1 Ze kterých surovin se vaří plzeňské pivo?\n",
    "4 body  (dvojnásobný počet bodů, pokud uvedete i jejich původ)"
   ]
  },
  {
   "cell_type": "markdown",
   "id": "2c06e43f",
   "metadata": {
    "slideshow": {
     "slide_type": "subslide"
    }
   },
   "source": [
    "### 4.2 Jaké jsou druhy čepování piva?\n",
    "po 1 bodu"
   ]
  },
  {
   "cell_type": "markdown",
   "id": "213a82d3",
   "metadata": {
    "slideshow": {
     "slide_type": "subslide"
    }
   },
   "source": [
    "### 4.3 Co vyjadřuje číslo v označní piva? \"desítka\", \"dvanáctka\"\n",
    "2 body"
   ]
  },
  {
   "cell_type": "markdown",
   "id": "a6df96a9",
   "metadata": {
    "slideshow": {
     "slide_type": "subslide"
    }
   },
   "source": [
    "### 4.4 Pivní tipovačka\n",
    "po 1 bodu\n",
    "\n",
    "- Který stát měl v roce 2020 největší spotřebu piva na obyvatele na rok? (bonus, kolik litrů)\n",
    "- Kolik % alkoholu má nejsilnější pivo na světě?\n",
    "- Nejrychleji vypitý tuplák piva? [s]\n",
    "- Kolik loni prodal Plzeňský Prazdroj piva? [hl]"
   ]
  },
  {
   "cell_type": "markdown",
   "id": "62d53f4f",
   "metadata": {
    "slideshow": {
     "slide_type": "slide"
    }
   },
   "source": [
    "## 4. Na Pyvu o pivu - Řešení"
   ]
  },
  {
   "cell_type": "markdown",
   "id": "bd28613c",
   "metadata": {
    "slideshow": {
     "slide_type": "subslide"
    }
   },
   "source": [
    "### 4.0 Kdy byla uvařená první várka plzeňského ležáku? Který sládek?\n",
    "2 body"
   ]
  },
  {
   "cell_type": "markdown",
   "id": "39a776ed",
   "metadata": {
    "slideshow": {
     "slide_type": "fragment"
    }
   },
   "source": [
    "- 5.10.1842\n",
    "- Josef Groll"
   ]
  },
  {
   "cell_type": "markdown",
   "id": "c32d8efd",
   "metadata": {
    "slideshow": {
     "slide_type": "subslide"
    }
   },
   "source": [
    "### 4.1 Ze kterých surovin se vaří plzeňské pivo?\n",
    "4 body  (dvojnásobný počet bodů, pokud uvedete i jejich původ)  "
   ]
  },
  {
   "cell_type": "markdown",
   "id": "9ab3f26c",
   "metadata": {
    "slideshow": {
     "slide_type": "fragment"
    }
   },
   "source": [
    "[suroviny](https://www.prazdroj.cz/odpovednost/report-2017/suroviny)\n",
    "\n",
    "- chmel (Žatec)\n",
    "- ječmenný slad (český)\n",
    "- voda (Plzeň)\n",
    "- kvasinky (Plzeň)"
   ]
  },
  {
   "cell_type": "markdown",
   "id": "1fb87526",
   "metadata": {
    "slideshow": {
     "slide_type": "subslide"
    }
   },
   "source": [
    "### 4.2 Jaké jsou druhy čepování piva?\n",
    "po 1 bodu"
   ]
  },
  {
   "cell_type": "markdown",
   "id": "97e17d8b",
   "metadata": {
    "slideshow": {
     "slide_type": "fragment"
    }
   },
   "source": [
    "- hladinka\n",
    "- mlíko\n",
    "- šnyt\n",
    "- čochtan"
   ]
  },
  {
   "cell_type": "markdown",
   "id": "1b3c574c",
   "metadata": {
    "slideshow": {
     "slide_type": "subslide"
    }
   },
   "source": [
    "### 4.3 Co vyjadřuje číslo v označní piva? \"desítka\", \"dvanáctka\"\n",
    "2 body"
   ]
  },
  {
   "cell_type": "markdown",
   "id": "56dd81d2",
   "metadata": {
    "slideshow": {
     "slide_type": "fragment"
    }
   },
   "source": [
    "Kdysi používané stupně znamenají extrakt původní mladiny.  \n",
    "Dalo by se říct, že vyjadřuje, jak hustá byla mladina, z níž bylo pivo vyrobeno. Extrakt je tím vyšší, čím více sladu bylo při výrobě piva použito. Pivo označované jako 10° je vyrobeno z mladiny, která obsahuje 10 % extraktu.\n",
    "\n",
    "Pokud si extrakt představíme zjednodušeně jako roztok cukrů, desítka má v jednom litru 100 gramů a dvanáctka 120 gramů cukru. Lze tedy říct, že extrakt označuje \"sílu“ piva, čím je vyšší, tím je pivo plnější a hutnější. Ale pozor, nemusí mít více alkoholu. Ten záleží i na stupni prokvašení.\n",
    "\n",
    "[Zdroj](https://www.idnes.cz/ekonomika/test-a-spotrebitel/piva-jsou-pestra-neni-jen-desitka-a-dvanactka.A091002_1266378_test_spi) "
   ]
  },
  {
   "cell_type": "markdown",
   "id": "6eb40366",
   "metadata": {
    "slideshow": {
     "slide_type": "subslide"
    }
   },
   "source": [
    "### 4.4 Pivní tipovačka\n",
    "po 1 bodu"
   ]
  },
  {
   "cell_type": "markdown",
   "id": "252c9901",
   "metadata": {
    "slideshow": {
     "slide_type": "fragment"
    }
   },
   "source": [
    "- Který stát měl v roce 2020 největší spotřebu piva na obyvatele na rok? (bonus, kolik litrů) - [Češi](https://en.wikipedia.org/wiki/List_of_countries_by_beer_consumption_per_capita#cite_note-3), 181 litrů\n",
    "- Kolik % alkoholu má nejsilnější pivo na světě? - [67.5% Snake Venom](https://www.denik.cz/hobby/nejzajimavejsi-pivni-rekordy.html)\n",
    "- Nejrychleji vypitý tuplák piva? [s] - 1.3s, Steven Petrosino\n",
    "- Kolik loni prodal Plzeňský Prazdroj piva? - [6.5 milionů](https://www.prazdroj.cz/tuzemske-prodeje-plzenskeho-prazdroje-loni-klesly-o-3-procenta-mirne-se-ale-zvysil-zajem-o-jeho-cepovane-pivo) hl"
   ]
  },
  {
   "cell_type": "markdown",
   "id": "cd3d6cf7",
   "metadata": {
    "slideshow": {
     "slide_type": "slide"
    }
   },
   "source": [
    "## Bonusy - Řešení"
   ]
  },
  {
   "cell_type": "markdown",
   "id": "b6745ee9",
   "metadata": {
    "slideshow": {
     "slide_type": "subslide"
    }
   },
   "source": [
    "### Napište co nejvíce bodů (veršů) ze \"Zen of python\".\n",
    "1 bod za každý (celkem 19)"
   ]
  },
  {
   "cell_type": "code",
   "execution_count": 23,
   "id": "578e252a",
   "metadata": {
    "scrolled": true,
    "slideshow": {
     "slide_type": "fragment"
    }
   },
   "outputs": [
    {
     "name": "stdout",
     "output_type": "stream",
     "text": [
      "The Zen of Python, by Tim Peters\n",
      "\n",
      "Beautiful is better than ugly.\n",
      "Explicit is better than implicit.\n",
      "Simple is better than complex.\n",
      "Complex is better than complicated.\n",
      "Flat is better than nested.\n",
      "Sparse is better than dense.\n",
      "Readability counts.\n",
      "Special cases aren't special enough to break the rules.\n",
      "Although practicality beats purity.\n",
      "Errors should never pass silently.\n",
      "Unless explicitly silenced.\n",
      "In the face of ambiguity, refuse the temptation to guess.\n",
      "There should be one-- and preferably only one --obvious way to do it.\n",
      "Although that way may not be obvious at first unless you're Dutch.\n",
      "Now is better than never.\n",
      "Although never is often better than *right* now.\n",
      "If the implementation is hard to explain, it's a bad idea.\n",
      "If the implementation is easy to explain, it may be a good idea.\n",
      "Namespaces are one honking great idea -- let's do more of those!\n"
     ]
    }
   ],
   "source": [
    "import this"
   ]
  },
  {
   "cell_type": "markdown",
   "id": "a35745d8",
   "metadata": {
    "slideshow": {
     "slide_type": "subslide"
    }
   },
   "source": [
    "### Naprogramujte \"na papír\" - FizzBuzz pro čísla [1, n]\n",
    "10 bodů\n"
   ]
  },
  {
   "cell_type": "code",
   "execution_count": 24,
   "id": "d858d1ae",
   "metadata": {
    "slideshow": {
     "slide_type": "subslide"
    }
   },
   "outputs": [
    {
     "name": "stdout",
     "output_type": "stream",
     "text": [
      "1\n",
      "2\n",
      "Fizz\n",
      "4\n",
      "Buzz\n",
      "Fizz\n",
      "7\n",
      "8\n",
      "Fizz\n",
      "Buzz\n",
      "11\n",
      "Fizz\n",
      "13\n",
      "14\n",
      "FizzBuzz\n",
      "16\n",
      "17\n",
      "Fizz\n",
      "19\n",
      "Buzz\n"
     ]
    }
   ],
   "source": [
    "from itertools import count, cycle, islice\n",
    "\n",
    "def fizz_zzip_buzz(n):\n",
    "    fizzes = cycle([\"\"] * 2 + [\"Fizz\"])\n",
    "    buzzes = cycle([\"\"] * 4 + [\"Buzz\"])\n",
    "    fizzes_buzzes = (fizz + buzz for fizz, buzz in zip(fizzes, buzzes))\n",
    "    result = (word or n for word, n in zip(fizzes_buzzes, count(1)))\n",
    "    for i in islice(result, n):\n",
    "        print(i)\n",
    "\n",
    "fizz_zzip_buzz(20)"
   ]
  },
  {
   "cell_type": "code",
   "execution_count": 25,
   "id": "0402317e",
   "metadata": {
    "slideshow": {
     "slide_type": "subslide"
    }
   },
   "outputs": [
    {
     "name": "stdout",
     "output_type": "stream",
     "text": [
      "1\n",
      "2\n",
      "Fizz\n",
      "4\n",
      "Buzz\n",
      "Fizz\n",
      "7\n",
      "8\n",
      "Fizz\n",
      "Buzz\n",
      "11\n",
      "Fizz\n",
      "13\n",
      "14\n",
      "FizzBuzz\n",
      "16\n",
      "17\n",
      "Fizz\n",
      "19\n",
      "Buzz\n"
     ]
    }
   ],
   "source": [
    "def lambda_buzz(n):\n",
    "    print(*map(lambda i: \n",
    "                   'Fizz' * (not i % 3) + \n",
    "                   'Buzz' * (not i % 5) \n",
    "                   or i, \n",
    "               range(1, n + 1)), \n",
    "          sep='\\n')\n",
    "    \n",
    "lambda_buzz(20)"
   ]
  },
  {
   "cell_type": "code",
   "execution_count": 26,
   "id": "fe1850dd",
   "metadata": {
    "slideshow": {
     "slide_type": "subslide"
    }
   },
   "outputs": [
    {
     "name": "stdout",
     "output_type": "stream",
     "text": [
      "1\n",
      "2\n",
      "Fizz\n",
      "4\n",
      "Buzz\n",
      "Fizz\n",
      "7\n",
      "8\n",
      "Fizz\n",
      "Buzz\n",
      "11\n",
      "Fizz\n",
      "13\n",
      "14\n",
      "FizzBuzz\n",
      "16\n",
      "17\n",
      "Fizz\n",
      "19\n",
      "Buzz\n"
     ]
    }
   ],
   "source": [
    "def get_buzz(n):\n",
    "    for i in [{0:\"FizzBuzz\"}.get(x%(3*5),\n",
    "                                 {0:\"Fizz\"}.get(x%3,\n",
    "                                                {0:\"Buzz\"}.get(x%5,\n",
    "                                                               x)))\n",
    "              for x in range(1,n+1)]:\n",
    "        print(i)\n",
    "          \n",
    "get_buzz(20)"
   ]
  },
  {
   "cell_type": "code",
   "execution_count": 27,
   "id": "a25c65ba",
   "metadata": {
    "slideshow": {
     "slide_type": "subslide"
    }
   },
   "outputs": [
    {
     "name": "stdout",
     "output_type": "stream",
     "text": [
      "1\n",
      "2\n",
      "Fizz\n",
      "4\n",
      "Buzz\n",
      "Fizz\n",
      "7\n",
      "8\n",
      "Fizz\n",
      "Buzz\n",
      "11\n",
      "Fizz\n",
      "13\n",
      "14\n",
      "FizzBuzz\n",
      "16\n",
      "17\n",
      "Fizz\n",
      "19\n",
      "Buzz\n"
     ]
    }
   ],
   "source": [
    "def buzz_golf(n):\n",
    "    for i in ['FizzBuzz'[i%3 and 4:4+4*(i%5==0)] or i for i in range(1,n+1)]:\n",
    "        print(i)\n",
    "        \n",
    "buzz_golf(20)"
   ]
  },
  {
   "cell_type": "code",
   "execution_count": 28,
   "id": "6745ae2a",
   "metadata": {
    "slideshow": {
     "slide_type": "subslide"
    }
   },
   "outputs": [
    {
     "name": "stdout",
     "output_type": "stream",
     "text": [
      "1\n",
      "2\n",
      "Fizz\n",
      "4\n",
      "Buzz\n",
      "Fizz\n",
      "7\n",
      "8\n",
      "Fizz\n",
      "Buzz\n",
      "11\n",
      "Fizz\n",
      "13\n",
      "14\n",
      "FizzBuzz\n",
      "16\n",
      "17\n",
      "Fizz\n",
      "19\n",
      "Buzz\n"
     ]
    }
   ],
   "source": [
    "def fizz_and_or_buzz(n):\n",
    "    for i in [x%15 and(x%3 and(x%5 and x or \"Buzz\")or \"Fizz\") or \"FizzBuzz\" for x in range(1,n+1)]:\n",
    "        print(i)\n",
    "\n",
    "fizz_and_or_buzz(20)"
   ]
  },
  {
   "cell_type": "code",
   "execution_count": 29,
   "id": "18c542f9",
   "metadata": {
    "slideshow": {
     "slide_type": "subslide"
    }
   },
   "outputs": [
    {
     "name": "stdout",
     "output_type": "stream",
     "text": [
      "1\n",
      "2\n",
      "Fizz\n",
      "4\n",
      "Buzz\n",
      "Fizz\n",
      "7\n",
      "8\n",
      "Fizz\n",
      "Buzz\n",
      "11\n",
      "Fizz\n",
      "13\n",
      "14\n",
      "FizzBuzz\n",
      "16\n",
      "17\n",
      "Fizz\n",
      "19\n",
      "Buzz\n"
     ]
    }
   ],
   "source": [
    "from itertools import cycle\n",
    "\n",
    "def cycle_buz(n):\n",
    "    fizzes = cycle([\"Fizz\"])\n",
    "    buzzes = cycle([\"Buzz\"])\n",
    "    fizzbuzzes = cycle([\"FizzBuzz\"])\n",
    "    numbers = range(1, n+1)\n",
    "    \n",
    "    for t in zip(numbers, fizzes, buzzes, fizzbuzzes):\n",
    "        print(t[int(t[0] % 3 == 0) + 2 * int(t[0] % 5 == 0)])\n",
    "\n",
    "cycle_buz(20)"
   ]
  }
 ],
 "metadata": {
  "celltoolbar": "Slideshow",
  "kernelspec": {
   "display_name": "Python 3 (ipykernel)",
   "language": "python",
   "name": "python3"
  },
  "language_info": {
   "codemirror_mode": {
    "name": "ipython",
    "version": 3
   },
   "file_extension": ".py",
   "mimetype": "text/x-python",
   "name": "python",
   "nbconvert_exporter": "python",
   "pygments_lexer": "ipython3",
   "version": "3.10.5"
  }
 },
 "nbformat": 4,
 "nbformat_minor": 5
}
