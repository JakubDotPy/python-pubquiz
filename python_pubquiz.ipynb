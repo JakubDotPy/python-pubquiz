{
 "cells": [
  {
   "cell_type": "markdown",
   "id": "c7485657",
   "metadata": {
    "slideshow": {
     "slide_type": "slide"
    }
   },
   "source": [
    "<h1 style=\"font-size:70px;\">Plzeňské Pyvo # 28</h1>"
   ]
  },
  {
   "cell_type": "markdown",
   "id": "daca6b6a",
   "metadata": {
    "slideshow": {
     "slide_type": "fragment"
    }
   },
   "source": [
    "<div style=\"font-size:90px;width:400px;display:block;float:left;\">\n",
    "    <p style=\"color:#306998;float:left;text-align:left;\">Py</p>\n",
    "    <p style=\"color:#FFD43B;float:left;text-align:right;\">Kviz</p>\n",
    "</div>"
   ]
  },
  {
   "cell_type": "code",
   "execution_count": 18,
   "id": "c5f59145",
   "metadata": {
    "slideshow": {
     "slide_type": "fragment"
    }
   },
   "outputs": [
    {
     "name": "stdout",
     "output_type": "stream",
     "text": [
      "Vítejte!\n"
     ]
    }
   ],
   "source": [
    "print('Vítejte!')"
   ]
  },
  {
   "cell_type": "markdown",
   "id": "48f363b1",
   "metadata": {
    "slideshow": {
     "slide_type": "slide"
    }
   },
   "source": [
    "## Úvodní slovo\n",
    "- zápisné / cena pro vítěze\n",
    "- průběh kvízu\n",
    "- hodnocení / bodování"
   ]
  },
  {
   "cell_type": "markdown",
   "id": "22aa74af",
   "metadata": {
    "slideshow": {
     "slide_type": "slide"
    }
   },
   "source": [
    "## Bonusové úkoly\n",
    "Řešte v průběhu kvízu na zadní stranu.  \n",
    "Po skončení kvízu bude pár minut na dokončení."
   ]
  },
  {
   "cell_type": "markdown",
   "id": "6fadea68",
   "metadata": {
    "slideshow": {
     "slide_type": "subslide"
    }
   },
   "source": [
    "### Napište co nejvíce bodů (veršů) ze \"Zen of python\".\n",
    "1 bod za každý (celkem 19)"
   ]
  },
  {
   "cell_type": "markdown",
   "id": "aad69dac",
   "metadata": {
    "slideshow": {
     "slide_type": "subslide"
    }
   },
   "source": [
    "### Naprogramujte \"na papír\" - FizzBuzz pro čísla [1, n]\n",
    "\n",
    "10 bodů  \n",
    "\n",
    "Vypíše:\n",
    "- 'Fizz', pokud je číslo dělitelné 3\n",
    "- 'Buzz', pokud je dělitelné 5\n",
    "- 'FizzBuzz', pokud je dělitelné 3 i 5\n",
    "- číslo, pokud neplatí nic výše\n",
    "\n",
    "1, \n",
    "2, \n",
    "Fizz, \n",
    "4, \n",
    "Buzz, \n",
    "Fizz, \n",
    "7, \n",
    "8, \n",
    "Fizz, \n",
    "Buzz, \n",
    "11, \n",
    "Fizz, \n",
    "13, \n",
    "14, \n",
    "FizzBuzz, \n",
    "16, \n",
    "17, \n",
    "Fizz, \n",
    "19, \n",
    "Buzz\n",
    "\n",
    "<p style=\"color:red;font-size:40px;\">Bez použití 'if'!</p>\n"
   ]
  },
  {
   "cell_type": "markdown",
   "id": "a2c4a31f",
   "metadata": {
    "slideshow": {
     "slide_type": "slide"
    }
   },
   "source": [
    "## 0. Na rozehřátí"
   ]
  },
  {
   "cell_type": "markdown",
   "id": "5957276a",
   "metadata": {
    "slideshow": {
     "slide_type": "slide"
    }
   },
   "source": [
    "## 0. Na rozehřátí - Řešení"
   ]
  },
  {
   "cell_type": "markdown",
   "id": "4701df00",
   "metadata": {
    "slideshow": {
     "slide_type": "slide"
    }
   },
   "source": [
    "## 1. Z historie Pythonu"
   ]
  },
  {
   "cell_type": "markdown",
   "id": "f8bf2fbb",
   "metadata": {
    "slideshow": {
     "slide_type": "subslide"
    }
   },
   "source": [
    "### 1.1 Popiš, odkud pochází název Python\n",
    "1 bod"
   ]
  },
  {
   "cell_type": "markdown",
   "id": "3b1b688a",
   "metadata": {
    "slideshow": {
     "slide_type": "subslide"
    }
   },
   "source": [
    "### 1.2 Uveď celé jméno otce Pythonu\n",
    "3 body"
   ]
  },
  {
   "cell_type": "markdown",
   "id": "32341961",
   "metadata": {
    "slideshow": {
     "slide_type": "subslide"
    }
   },
   "source": [
    "### 1.3 Jakou samozvanou funkci (titul) měl v rámci Pythonu jeho tvůrce? \n",
    "2 body\n",
    "- Z funkce odstoupil 12. července 2018. Bonusová otázka (2b) - proč?"
   ]
  },
  {
   "cell_type": "markdown",
   "id": "6deef261",
   "metadata": {
    "slideshow": {
     "slide_type": "subslide"
    }
   },
   "source": [
    "### 1.4 Kdy začal vývoj Pythonu?\n",
    "Rok a měsíc  \n",
    "2 body"
   ]
  },
  {
   "cell_type": "markdown",
   "id": "bfdc4643",
   "metadata": {
    "slideshow": {
     "slide_type": "subslide"
    }
   },
   "source": [
    "### 1.5 Významné releasy.\n",
    "Rok a měsíc, po 2 bodech  \n",
    "- první release\n",
    "- verze 1.0\n",
    "- verze 2.0\n",
    "- verze 3.0"
   ]
  },
  {
   "cell_type": "markdown",
   "id": "676e52dc",
   "metadata": {
    "slideshow": {
     "slide_type": "slide"
    }
   },
   "source": [
    "## 1. Z historie Pythonu - Řešení\n",
    "https://en.wikipedia.org/wiki/History_of_Python"
   ]
  },
  {
   "cell_type": "markdown",
   "id": "7ca4f65f",
   "metadata": {
    "slideshow": {
     "slide_type": "subslide"
    }
   },
   "source": [
    "### 1.1 Popiš, odkud pochází název Python\n",
    "1 bod"
   ]
  },
  {
   "cell_type": "markdown",
   "id": "411d4949",
   "metadata": {
    "slideshow": {
     "slide_type": "fragment"
    }
   },
   "source": [
    "Je pojmenován podle britského komediálního seriálu \"Monty Python’s Flying Circus\".\n",
    "\n",
    "Z [dokumentace](https://docs.python.org/3/faq/general.html#why-is-it-called-python):\n",
    "> When he began implementing Python, Guido van Rossum was also reading the published scripts from “Monty Python’s Flying Circus”, a BBC comedy series from the 1970s.  \n",
    "> Van Rossum thought he needed a name that was short, unique, and slightly mysterious, so he decided to call the language Python."
   ]
  },
  {
   "cell_type": "markdown",
   "id": "41424388",
   "metadata": {
    "slideshow": {
     "slide_type": "subslide"
    }
   },
   "source": [
    "### 1.2 Uveď celé jméno otce Pythonu\n",
    "3 body"
   ]
  },
  {
   "cell_type": "markdown",
   "id": "e78eb066",
   "metadata": {
    "slideshow": {
     "slide_type": "fragment"
    }
   },
   "source": [
    "Guido van Rossum"
   ]
  },
  {
   "cell_type": "markdown",
   "id": "c5025933",
   "metadata": {
    "slideshow": {
     "slide_type": "subslide"
    }
   },
   "source": [
    "### 1.3 Jakou samozvanou funkci (titul) má v rámci Pythonu jeho tvůrce?  \n",
    "2 body"
   ]
  },
  {
   "cell_type": "markdown",
   "id": "3222d5ba",
   "metadata": {
    "slideshow": {
     "slide_type": "fragment"
    }
   },
   "source": [
    "BDFL - [Benevolent dictator for life](https://en.wikipedia.org/wiki/Benevolent_dictator_for_life)"
   ]
  },
  {
   "cell_type": "markdown",
   "id": "d521cd64",
   "metadata": {
    "slideshow": {
     "slide_type": "fragment"
    }
   },
   "source": [
    "[Odstoupil](https://mail.python.org/pipermail/python-committers/2018-July/005664.html) po neshodách ohledně [PEP 572](https://peps.python.org/pep-0572/) - Assignment Expressions `:=`"
   ]
  },
  {
   "cell_type": "markdown",
   "id": "f1373615",
   "metadata": {
    "slideshow": {
     "slide_type": "subslide"
    }
   },
   "source": [
    "### 1.4 Kdy začal vývoj Pythonu?\n",
    "Rok a měsíc\n",
    "2 body"
   ]
  },
  {
   "cell_type": "markdown",
   "id": "55f8ef44",
   "metadata": {
    "slideshow": {
     "slide_type": "fragment"
    }
   },
   "source": [
    "Prosinec 1989"
   ]
  },
  {
   "cell_type": "markdown",
   "id": "9ccd269e",
   "metadata": {
    "slideshow": {
     "slide_type": "subslide"
    }
   },
   "source": [
    "### 1.5 Významné releasy.\n",
    "Rok a měsíc, po 2 bodech  "
   ]
  },
  {
   "cell_type": "markdown",
   "id": "7626635e",
   "metadata": {
    "slideshow": {
     "slide_type": "fragment"
    }
   },
   "source": [
    "- první release - Únor 1991\n",
    "- verze 1.0 - Leden 1994\n",
    "- verze 2.0 - Říjen 2000\n",
    "- verze 3.0 - Prosinec 2008"
   ]
  },
  {
   "cell_type": "markdown",
   "id": "676ddfe6",
   "metadata": {
    "slideshow": {
     "slide_type": "slide"
    }
   },
   "source": [
    "## 2. Tipovačka"
   ]
  },
  {
   "cell_type": "markdown",
   "id": "842b6a84",
   "metadata": {
    "slideshow": {
     "slide_type": "subslide"
    }
   },
   "source": [
    "### 2.1 Kdy bylo vůbec první Pyvo?\n",
    "První tři nejbližší 1 bod.  \n",
    "Pokud bude někdo v toleranci +- půl roku, 3 body.\n",
    "- české (které)\n",
    "- plzeňské"
   ]
  },
  {
   "cell_type": "markdown",
   "id": "a2faf576",
   "metadata": {
    "slideshow": {
     "slide_type": "subslide"
    }
   },
   "source": [
    "### 2.2 Kolik je v tuto chvíli na Stack Overflow otázek s tagem \"Python\"?\n",
    "První tři nejbližší 1 bod.  \n",
    "Pokud bude někdo v toleranci +-200_000, 3 body."
   ]
  },
  {
   "cell_type": "markdown",
   "id": "5968c4d7",
   "metadata": {
    "slideshow": {
     "slide_type": "subslide"
    }
   },
   "source": [
    "### 2.3 Kolik \"keywords\" má python?\n",
    "1 bod"
   ]
  },
  {
   "cell_type": "markdown",
   "id": "20c0781e",
   "metadata": {
    "slideshow": {
     "slide_type": "subslide"
    }
   },
   "source": [
    "### 2.4 Jaká je maximální hloubka rekurzivního volání?\n",
    "1 bod"
   ]
  },
  {
   "cell_type": "markdown",
   "id": "7f8d013c",
   "metadata": {
    "slideshow": {
     "slide_type": "subslide"
    }
   },
   "source": [
    "### 2.5 Vyjmenuj všechny \"příchutě\" pythonu.\n",
    "po 1 bodu  \n",
    "nápověda: např. `CPython`"
   ]
  },
  {
   "cell_type": "markdown",
   "id": "59175948",
   "metadata": {
    "slideshow": {
     "slide_type": "slide"
    }
   },
   "source": [
    "## 2. Tipovačka - Řešení"
   ]
  },
  {
   "cell_type": "markdown",
   "id": "e7b57fd4",
   "metadata": {
    "slideshow": {
     "slide_type": "subslide"
    }
   },
   "source": [
    "### 2.1 Kdy bylo vůbec první Pyvo?\n",
    "První tři nejbližší 1 bod.  \n",
    "Pokud bude někdo v toleranci +- půl roku, 3 body.\n",
    "- české (které)\n",
    "- plzeňské"
   ]
  },
  {
   "cell_type": "markdown",
   "id": "28ab22c2",
   "metadata": {
    "slideshow": {
     "slide_type": "fragment"
    }
   },
   "source": [
    "- české - 17.1.2011, pražské\n",
    "- plzeňské - 10.1.2018"
   ]
  },
  {
   "cell_type": "markdown",
   "id": "ee18daa3",
   "metadata": {
    "slideshow": {
     "slide_type": "subslide"
    }
   },
   "source": [
    "### 2.2 Kolik je v tuto chvíli na Stack Overflow otázek s tagem \"Python\"?\n",
    "První tři nejbližší 1 bod.  \n",
    "Pokud bude někdo v toleranci +-200_000, 3 body."
   ]
  },
  {
   "cell_type": "markdown",
   "id": "33417607",
   "metadata": {
    "slideshow": {
     "slide_type": "fragment"
    }
   },
   "source": [
    "2,016,389  \n",
    "Aktuální odpověď: https://stackoverflow.com/questions/tagged/python"
   ]
  },
  {
   "cell_type": "markdown",
   "id": "b8e09e4d",
   "metadata": {
    "slideshow": {
     "slide_type": "subslide"
    }
   },
   "source": [
    "### 2.3 Kolik \"keywords\" má python?\n",
    "1 bod"
   ]
  },
  {
   "cell_type": "code",
   "execution_count": 2,
   "id": "b21e1497",
   "metadata": {
    "scrolled": true,
    "slideshow": {
     "slide_type": "fragment"
    }
   },
   "outputs": [
    {
     "name": "stdout",
     "output_type": "stream",
     "text": [
      "['False', 'None', 'True', 'and', 'as', 'assert', 'async', 'await', 'break', 'class', 'continue', 'def', 'del', 'elif', 'else', 'except', 'finally', 'for', 'from', 'global', 'if', 'import', 'in', 'is', 'lambda', 'nonlocal', 'not', 'or', 'pass', 'raise', 'return', 'try', 'while', 'with', 'yield']\n"
     ]
    },
    {
     "data": {
      "text/plain": [
       "35"
      ]
     },
     "execution_count": 2,
     "metadata": {},
     "output_type": "execute_result"
    }
   ],
   "source": [
    "import keyword\n",
    "print(keyword.kwlist)\n",
    "len(keyword.kwlist)"
   ]
  },
  {
   "cell_type": "markdown",
   "id": "01417125",
   "metadata": {
    "slideshow": {
     "slide_type": "subslide"
    }
   },
   "source": [
    "### 2.4 Jaká je maximální hloubka rekurzivního volání?\n",
    "1 bod"
   ]
  },
  {
   "cell_type": "markdown",
   "id": "e02c7aeb",
   "metadata": {
    "slideshow": {
     "slide_type": "fragment"
    }
   },
   "source": [
    "Standartně `1000`, dá se [nastavit](https://docs.python.org/3.10/library/sys.html?highlight=recursionlimit#sys.getrecursionlimit) větší.  \n",
    "Záleží také na interpreteru. JupyterNotebook má např. `3000`."
   ]
  },
  {
   "cell_type": "code",
   "execution_count": 3,
   "id": "89f50586",
   "metadata": {
    "slideshow": {
     "slide_type": "fragment"
    }
   },
   "outputs": [
    {
     "data": {
      "text/plain": [
       "3000"
      ]
     },
     "execution_count": 3,
     "metadata": {},
     "output_type": "execute_result"
    }
   ],
   "source": [
    "import sys\n",
    "sys.getrecursionlimit()"
   ]
  },
  {
   "cell_type": "markdown",
   "id": "000902c9",
   "metadata": {
    "slideshow": {
     "slide_type": "subslide"
    }
   },
   "source": [
    "### 2.5 Vyjmenuj všechny \"příchutě\" pythonu.\n",
    "po 1 bodu  \n",
    "nápověda: např. `CPython`"
   ]
  },
  {
   "cell_type": "markdown",
   "id": "721fa1ea",
   "metadata": {
    "slideshow": {
     "slide_type": "fragment"
    }
   },
   "source": [
    "[zde](https://www.infoworld.com/article/3267976/12-pythons-for-every-programming-need.html) a [zde](https://www.gkindex.com/python-tutorial/python-flavours.jsp)\n",
    "- CPython\n",
    "- ActivePython\n",
    "- PyPy\n",
    "- Jython\n",
    "- IronPython\n",
    "- WinPython\n",
    "- MicroPython\n",
    "- RubyPython\n",
    "- Pythonxy\n",
    "- Pycopy\n",
    "- RustPython\n",
    "\n",
    "a další..."
   ]
  },
  {
   "cell_type": "markdown",
   "id": "1b9f74ee",
   "metadata": {
    "slideshow": {
     "slide_type": "slide"
    }
   },
   "source": [
    "## 3. WTF Python?!\n",
    "Napište výsledek operace."
   ]
  },
  {
   "cell_type": "markdown",
   "id": "3adf64af",
   "metadata": {
    "slideshow": {
     "slide_type": "subslide"
    }
   },
   "source": [
    "### 3.1 Chained comparisons\n",
    "po 1 bodu\n",
    "```python\n",
    "True is False == False\n",
    "False is False is False\n",
    "False == False in [False]\n",
    "```"
   ]
  },
  {
   "cell_type": "markdown",
   "id": "1c3688a9",
   "metadata": {
    "slideshow": {
     "slide_type": "subslide"
    }
   },
   "source": [
    "### 3.2 ID please\n",
    "1 bod\n",
    "```python\n",
    "class Wtf:\n",
    "    pass\n",
    "\n",
    "id(Wtf()) == id(Wtf())\n",
    "```"
   ]
  },
  {
   "cell_type": "markdown",
   "id": "acd3ede3",
   "metadata": {
    "slideshow": {
     "slide_type": "subslide"
    }
   },
   "source": [
    "### 3.3 Round and Round and Round...\n",
    "1 bod\n",
    "```python\n",
    "round(1.3), round(1.5), round(2.5), round(3.7), round(4.6), round(4.5)\n",
    "```"
   ]
  },
  {
   "cell_type": "markdown",
   "id": "f9b3899a",
   "metadata": {
    "slideshow": {
     "slide_type": "subslide"
    }
   },
   "source": [
    "### 3.4 Ternary fun\n",
    "1 bod\n",
    "```python\n",
    "x, y = (0, 1) if True else None, None\n",
    "```"
   ]
  },
  {
   "cell_type": "markdown",
   "id": "f46170c1",
   "metadata": {
    "slideshow": {
     "slide_type": "subslide"
    }
   },
   "source": [
    "### 3.5 Wild imports *\n",
    "1 bod\n",
    "```python\n",
    "# File: module.py\n",
    "def some_weird_name_func_():\n",
    "    print(\"works!\")\n",
    "\n",
    "def _another_weird_name_func():\n",
    "    print(\"works!\")\n",
    "    \n",
    "# co vypise?:\n",
    "from module import *\n",
    "some_weird_name_func_()\n",
    "_another_weird_name_func()\n",
    "```"
   ]
  },
  {
   "cell_type": "markdown",
   "id": "37c84a7b",
   "metadata": {
    "slideshow": {
     "slide_type": "subslide"
    }
   },
   "source": [
    "### 3.6 Sorting fun\n",
    "3 body\n",
    "```python\n",
    "x = 7, 8, 9\n",
    "sorted(x) == x  # 1 bod\n",
    "sorted(x) == sorted(x)  # 1 bod\n",
    "\n",
    "y = reversed(x)\n",
    "sorted(y) == sorted(y)  # 1 bod\n",
    "```"
   ]
  },
  {
   "cell_type": "markdown",
   "id": "67ccd145",
   "metadata": {
    "slideshow": {
     "slide_type": "subslide"
    }
   },
   "source": [
    "### 3.7 Hash of infinity\n",
    "1 bod  \n",
    "Jaký je hash nekonečna?"
   ]
  },
  {
   "cell_type": "markdown",
   "id": "25ee96af",
   "metadata": {
    "slideshow": {
     "slide_type": "slide"
    }
   },
   "source": [
    "## 3. WTF Python?! - Řešení"
   ]
  },
  {
   "cell_type": "markdown",
   "id": "c998d4d8",
   "metadata": {
    "slideshow": {
     "slide_type": "subslide"
    }
   },
   "source": [
    "### 3.1 Chained comparisons\n",
    "po 1 bodu\n",
    "```python\n",
    "True is False == False\n",
    "False is False is False\n",
    "False == False in [False]\n",
    "```"
   ]
  },
  {
   "cell_type": "code",
   "execution_count": 4,
   "id": "cff9d880",
   "metadata": {
    "slideshow": {
     "slide_type": "fragment"
    }
   },
   "outputs": [
    {
     "data": {
      "text/plain": [
       "False"
      ]
     },
     "execution_count": 4,
     "metadata": {},
     "output_type": "execute_result"
    }
   ],
   "source": [
    "True is False == False"
   ]
  },
  {
   "cell_type": "code",
   "execution_count": 5,
   "id": "94895333",
   "metadata": {
    "slideshow": {
     "slide_type": "fragment"
    }
   },
   "outputs": [
    {
     "data": {
      "text/plain": [
       "True"
      ]
     },
     "execution_count": 5,
     "metadata": {},
     "output_type": "execute_result"
    }
   ],
   "source": [
    "False is False is False"
   ]
  },
  {
   "cell_type": "code",
   "execution_count": 6,
   "id": "09645c7a",
   "metadata": {
    "slideshow": {
     "slide_type": "fragment"
    }
   },
   "outputs": [
    {
     "data": {
      "text/plain": [
       "True"
      ]
     },
     "execution_count": 6,
     "metadata": {},
     "output_type": "execute_result"
    }
   ],
   "source": [
    "False == False in [False]"
   ]
  },
  {
   "cell_type": "markdown",
   "id": "98f915bb",
   "metadata": {
    "slideshow": {
     "slide_type": "fragment"
    }
   },
   "source": [
    "U \"chained\" operátorů se provede rozklad na dvojice spojené pomocí `and`.<br>\n",
    "`False == False in [False]` ->`(False == False) and (False in [False])`"
   ]
  },
  {
   "cell_type": "markdown",
   "id": "f8dcfa29",
   "metadata": {
    "slideshow": {
     "slide_type": "subslide"
    }
   },
   "source": [
    "### 3.2 ID please\n",
    "1 bod\n",
    "```python\n",
    "class Wtf:\n",
    "    pass\n",
    "\n",
    "id(Wtf()) == id(Wtf())\n",
    "```"
   ]
  },
  {
   "cell_type": "code",
   "execution_count": 7,
   "id": "5f8271dc",
   "metadata": {
    "slideshow": {
     "slide_type": "fragment"
    }
   },
   "outputs": [
    {
     "data": {
      "text/plain": [
       "True"
      ]
     },
     "execution_count": 7,
     "metadata": {},
     "output_type": "execute_result"
    }
   ],
   "source": [
    "class Wtf:\n",
    "    pass\n",
    "\n",
    "id(Wtf()) == id(Wtf())"
   ]
  },
  {
   "cell_type": "code",
   "execution_count": 8,
   "id": "b093e4f0",
   "metadata": {
    "slideshow": {
     "slide_type": "subslide"
    }
   },
   "outputs": [],
   "source": [
    "\"\"\"\n",
    "When id was called, Python created a WTF class object and passed it to the id function.\n",
    "The id function takes its id (its memory location), and throws away the object. The object is destroyed.\n",
    "\"\"\"\n",
    "import random, string\n",
    "class WTF(object):\n",
    "  def __init__(self):\n",
    "    self.name = random.choice(string.ascii_lowercase)  # jmeno je nahodne pismeno\n",
    "    print(f'Init {self.name}')\n",
    "  def __del__(self):\n",
    "    print(f'Delete {self.name}')"
   ]
  },
  {
   "cell_type": "code",
   "execution_count": 9,
   "id": "258848a3",
   "metadata": {
    "slideshow": {
     "slide_type": "fragment"
    }
   },
   "outputs": [
    {
     "name": "stdout",
     "output_type": "stream",
     "text": [
      "Init h\n",
      "Init f\n",
      "Delete h\n",
      "Delete f\n"
     ]
    },
    {
     "data": {
      "text/plain": [
       "False"
      ]
     },
     "execution_count": 9,
     "metadata": {},
     "output_type": "execute_result"
    }
   ],
   "source": [
    "WTF() is WTF()"
   ]
  },
  {
   "cell_type": "code",
   "execution_count": 10,
   "id": "a4f2ea6c",
   "metadata": {
    "slideshow": {
     "slide_type": "fragment"
    }
   },
   "outputs": [
    {
     "name": "stdout",
     "output_type": "stream",
     "text": [
      "Init p\n",
      "Delete p\n",
      "Init n\n",
      "Delete n\n"
     ]
    },
    {
     "data": {
      "text/plain": [
       "True"
      ]
     },
     "execution_count": 10,
     "metadata": {},
     "output_type": "execute_result"
    }
   ],
   "source": [
    "id(WTF()) == id(WTF())"
   ]
  },
  {
   "cell_type": "markdown",
   "id": "bc2b8936",
   "metadata": {
    "slideshow": {
     "slide_type": "subslide"
    }
   },
   "source": [
    "### 3.3 Round and Round and Round...\n",
    "1 bod\n",
    "```python\n",
    "round(1.3), round(1.5), round(2.5), round(3.7), round(4.6), round(4.5)\n",
    "```"
   ]
  },
  {
   "cell_type": "code",
   "execution_count": 11,
   "id": "5e944784",
   "metadata": {
    "slideshow": {
     "slide_type": "fragment"
    }
   },
   "outputs": [
    {
     "data": {
      "text/plain": [
       "(1, 2, 2, 4, 5, 4)"
      ]
     },
     "execution_count": 11,
     "metadata": {},
     "output_type": "execute_result"
    }
   ],
   "source": [
    "round(1.3), round(1.5), round(2.5), round(3.7), round(4.6), round(4.5)"
   ]
  },
  {
   "cell_type": "markdown",
   "id": "af4602ee",
   "metadata": {
    "slideshow": {
     "slide_type": "fragment"
    }
   },
   "source": [
    "Základní zaokrouhlování v Pythonu zaokrouhluje `.5` k nejbližšímu sudému číslu.  \n",
    "Známé jako: `Round half to even`, `Banker's rounding`"
   ]
  },
  {
   "cell_type": "markdown",
   "id": "751f8d5e",
   "metadata": {
    "slideshow": {
     "slide_type": "subslide"
    }
   },
   "source": [
    "### 3.4 Ternary fun\n",
    "1 bod\n",
    "```python\n",
    "x, y = (0, 1) if True else None, None\n",
    "```"
   ]
  },
  {
   "cell_type": "code",
   "execution_count": 12,
   "id": "81805870",
   "metadata": {
    "slideshow": {
     "slide_type": "fragment"
    }
   },
   "outputs": [
    {
     "name": "stdout",
     "output_type": "stream",
     "text": [
      "x = (0, 1)\n",
      "y = None\n"
     ]
    }
   ],
   "source": [
    "x, y = (0, 1) if True else None, None\n",
    "print(f'{x = }')\n",
    "print(f'{y = }')"
   ]
  },
  {
   "cell_type": "markdown",
   "id": "d55a5131",
   "metadata": {
    "slideshow": {
     "slide_type": "subslide"
    }
   },
   "source": [
    "### 3.5 Wild imports *\n",
    "1 bod\n",
    "```python\n",
    "some_weird_name_func_()\n",
    "_another_weird_name_func()\n",
    "```"
   ]
  },
  {
   "cell_type": "code",
   "execution_count": 13,
   "id": "48410c05",
   "metadata": {
    "slideshow": {
     "slide_type": "fragment"
    }
   },
   "outputs": [
    {
     "name": "stdout",
     "output_type": "stream",
     "text": [
      "works!\n",
      "NameError: name '_another_weird_name_func' is not defined\n"
     ]
    }
   ],
   "source": [
    "from module import *\n",
    "some_weird_name_func_()\n",
    "try:\n",
    "    _another_weird_name_func()\n",
    "except NameError as e:\n",
    "    print(f'NameError: {e}')"
   ]
  },
  {
   "cell_type": "markdown",
   "id": "77269499",
   "metadata": {
    "slideshow": {
     "slide_type": "fragment"
    }
   },
   "source": [
    "Názvy s podtržítky na začátku nejsou při wildcard importech naimportovány."
   ]
  },
  {
   "cell_type": "markdown",
   "id": "305ca725",
   "metadata": {
    "slideshow": {
     "slide_type": "subslide"
    }
   },
   "source": [
    "### 3.6 Sorting fun\n",
    "3 body\n",
    "```python\n",
    "x = 7, 8, 9\n",
    "sorted(x) == x  # 1 bod\n",
    "sorted(x) == sorted(x)  # 1 bod\n",
    "\n",
    "y = reversed(x)\n",
    "sorted(y) == sorted(y)  # 1 bod\n",
    "```"
   ]
  },
  {
   "cell_type": "code",
   "execution_count": 14,
   "id": "481d4d78",
   "metadata": {
    "slideshow": {
     "slide_type": "subslide"
    }
   },
   "outputs": [
    {
     "data": {
      "text/plain": [
       "False"
      ]
     },
     "execution_count": 14,
     "metadata": {},
     "output_type": "execute_result"
    }
   ],
   "source": [
    "x = 7, 8, 9\n",
    "sorted(x) == x"
   ]
  },
  {
   "cell_type": "code",
   "execution_count": 15,
   "id": "416b9c98",
   "metadata": {
    "slideshow": {
     "slide_type": "fragment"
    }
   },
   "outputs": [
    {
     "data": {
      "text/plain": [
       "True"
      ]
     },
     "execution_count": 15,
     "metadata": {},
     "output_type": "execute_result"
    }
   ],
   "source": [
    "sorted(x) == sorted(x)"
   ]
  },
  {
   "cell_type": "code",
   "execution_count": 16,
   "id": "166de17a",
   "metadata": {
    "slideshow": {
     "slide_type": "fragment"
    }
   },
   "outputs": [
    {
     "data": {
      "text/plain": [
       "False"
      ]
     },
     "execution_count": 16,
     "metadata": {},
     "output_type": "execute_result"
    }
   ],
   "source": [
    "y = reversed(x)\n",
    "sorted(y) == sorted(y)"
   ]
  },
  {
   "cell_type": "markdown",
   "id": "c2a90d5d",
   "metadata": {
    "slideshow": {
     "slide_type": "fragment"
    }
   },
   "source": [
    "- `sorted()` vždy vrací list. V prvním výrazu se tak porovnává list s tuple, což vždy vrací `False`\n",
    "- Druhý viz první.\n",
    "- `reversed()` vrací iterátor. Ten je po prvním `sorted` \"vyčerpaný\" a druhý sorted tak vrací prázdný list."
   ]
  },
  {
   "cell_type": "markdown",
   "id": "a5bdb25d",
   "metadata": {
    "slideshow": {
     "slide_type": "subslide"
    }
   },
   "source": [
    "### 3.7 Hash of infinity\n",
    "1 bod  \n",
    "Jaký je hash nekonečna?"
   ]
  },
  {
   "cell_type": "code",
   "execution_count": 17,
   "id": "cbf6e98d",
   "metadata": {
    "slideshow": {
     "slide_type": "fragment"
    }
   },
   "outputs": [
    {
     "data": {
      "text/plain": [
       "314159"
      ]
     },
     "execution_count": 17,
     "metadata": {},
     "output_type": "execute_result"
    }
   ],
   "source": [
    "hash(float('infinity'))"
   ]
  }
 ],
 "metadata": {
  "celltoolbar": "Slideshow",
  "kernelspec": {
   "display_name": "Python 3 (ipykernel)",
   "language": "python",
   "name": "python3"
  },
  "language_info": {
   "codemirror_mode": {
    "name": "ipython",
    "version": 3
   },
   "file_extension": ".py",
   "mimetype": "text/x-python",
   "name": "python",
   "nbconvert_exporter": "python",
   "pygments_lexer": "ipython3",
   "version": "3.10.5"
  }
 },
 "nbformat": 4,
 "nbformat_minor": 5
}
